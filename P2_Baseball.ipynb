{
 "cells": [
  {
   "cell_type": "markdown",
   "metadata": {},
   "source": [
    "What makes a valuable player? There are numerous measures that scouts and teams use to assess if a potential player will be a valuable asset or a washout. Ultimately, a valuable player will be the top performer with respect to his position's required skills, but also need to be good at hitting, because in the game of baseball nearly everyone playing in the game needs to do some batting.(Pitchers have the option in one of the leagues to take a Designated Hitter).\n",
    "Using my limited knowledge of baseball, as well as some common sense, I wanted to look at several measures of offense to analyze the players using Sean Lahman's dataset, specifically \"batting\". I've also compiled a list of 10 players who sources say are the best to have ever played the game, and I want to see if my top ten results in each category measure up."
   ]
  },
  {
   "cell_type": "markdown",
   "metadata": {},
   "source": [
    "1) What observations can we make about those who contributed to scoring?\n",
    "Contribution to scoring can be rather simple. I judged a contributor to be a player who scores runs or bats other players in (inclusive).  So I will be looking at playerID, Runs and RBI's as a measure of scoring."
   ]
  },
  {
   "cell_type": "code",
   "execution_count": 2,
   "metadata": {
    "collapsed": false
   },
   "outputs": [
    {
     "data": {
      "text/html": [
       "<div>\n",
       "<table border=\"1\" class=\"dataframe\">\n",
       "  <thead>\n",
       "    <tr style=\"text-align: right;\">\n",
       "      <th></th>\n",
       "      <th>playerID</th>\n",
       "      <th>yearID</th>\n",
       "      <th>stint</th>\n",
       "      <th>teamID</th>\n",
       "      <th>lgID</th>\n",
       "      <th>G</th>\n",
       "      <th>AB</th>\n",
       "      <th>R</th>\n",
       "      <th>H</th>\n",
       "      <th>2B</th>\n",
       "      <th>...</th>\n",
       "      <th>RBI</th>\n",
       "      <th>SB</th>\n",
       "      <th>CS</th>\n",
       "      <th>BB</th>\n",
       "      <th>SO</th>\n",
       "      <th>IBB</th>\n",
       "      <th>HBP</th>\n",
       "      <th>SH</th>\n",
       "      <th>SF</th>\n",
       "      <th>GIDP</th>\n",
       "    </tr>\n",
       "  </thead>\n",
       "  <tbody>\n",
       "    <tr>\n",
       "      <th>0</th>\n",
       "      <td>abercda01</td>\n",
       "      <td>1871</td>\n",
       "      <td>1</td>\n",
       "      <td>TRO</td>\n",
       "      <td>NaN</td>\n",
       "      <td>1</td>\n",
       "      <td>4</td>\n",
       "      <td>0</td>\n",
       "      <td>0</td>\n",
       "      <td>0</td>\n",
       "      <td>...</td>\n",
       "      <td>0.0</td>\n",
       "      <td>0.0</td>\n",
       "      <td>0.0</td>\n",
       "      <td>0</td>\n",
       "      <td>0.0</td>\n",
       "      <td>NaN</td>\n",
       "      <td>NaN</td>\n",
       "      <td>NaN</td>\n",
       "      <td>NaN</td>\n",
       "      <td>NaN</td>\n",
       "    </tr>\n",
       "    <tr>\n",
       "      <th>1</th>\n",
       "      <td>addybo01</td>\n",
       "      <td>1871</td>\n",
       "      <td>1</td>\n",
       "      <td>RC1</td>\n",
       "      <td>NaN</td>\n",
       "      <td>25</td>\n",
       "      <td>118</td>\n",
       "      <td>30</td>\n",
       "      <td>32</td>\n",
       "      <td>6</td>\n",
       "      <td>...</td>\n",
       "      <td>13.0</td>\n",
       "      <td>8.0</td>\n",
       "      <td>1.0</td>\n",
       "      <td>4</td>\n",
       "      <td>0.0</td>\n",
       "      <td>NaN</td>\n",
       "      <td>NaN</td>\n",
       "      <td>NaN</td>\n",
       "      <td>NaN</td>\n",
       "      <td>NaN</td>\n",
       "    </tr>\n",
       "    <tr>\n",
       "      <th>2</th>\n",
       "      <td>allisar01</td>\n",
       "      <td>1871</td>\n",
       "      <td>1</td>\n",
       "      <td>CL1</td>\n",
       "      <td>NaN</td>\n",
       "      <td>29</td>\n",
       "      <td>137</td>\n",
       "      <td>28</td>\n",
       "      <td>40</td>\n",
       "      <td>4</td>\n",
       "      <td>...</td>\n",
       "      <td>19.0</td>\n",
       "      <td>3.0</td>\n",
       "      <td>1.0</td>\n",
       "      <td>2</td>\n",
       "      <td>5.0</td>\n",
       "      <td>NaN</td>\n",
       "      <td>NaN</td>\n",
       "      <td>NaN</td>\n",
       "      <td>NaN</td>\n",
       "      <td>NaN</td>\n",
       "    </tr>\n",
       "  </tbody>\n",
       "</table>\n",
       "<p>3 rows × 22 columns</p>\n",
       "</div>"
      ],
      "text/plain": [
       "    playerID  yearID  stint teamID lgID   G   AB   R   H  2B  ...    RBI   SB  \\\n",
       "0  abercda01    1871      1    TRO  NaN   1    4   0   0   0  ...    0.0  0.0   \n",
       "1   addybo01    1871      1    RC1  NaN  25  118  30  32   6  ...   13.0  8.0   \n",
       "2  allisar01    1871      1    CL1  NaN  29  137  28  40   4  ...   19.0  3.0   \n",
       "\n",
       "    CS  BB   SO  IBB  HBP  SH  SF  GIDP  \n",
       "0  0.0   0  0.0  NaN  NaN NaN NaN   NaN  \n",
       "1  1.0   4  0.0  NaN  NaN NaN NaN   NaN  \n",
       "2  1.0   2  5.0  NaN  NaN NaN NaN   NaN  \n",
       "\n",
       "[3 rows x 22 columns]"
      ]
     },
     "execution_count": 2,
     "metadata": {},
     "output_type": "execute_result"
    }
   ],
   "source": [
    "import pandas as pd #importing the necessary packages\n",
    "import numpy as np\n",
    "import matplotlib.pyplot as plt\n",
    "import seaborn as sns\n",
    "\n",
    "#reading the csv that I'm using for offense\n",
    "filename= 'batting.csv'\n",
    "batting_df = pd.read_csv(filename)\n",
    "#print out the first 3 rows to get header information\n",
    "batting_df.head(n=3)"
   ]
  },
  {
   "cell_type": "code",
   "execution_count": 3,
   "metadata": {
    "collapsed": false
   },
   "outputs": [
    {
     "data": {
      "text/html": [
       "<div>\n",
       "<table border=\"1\" class=\"dataframe\">\n",
       "  <thead>\n",
       "    <tr style=\"text-align: right;\">\n",
       "      <th></th>\n",
       "      <th>playerID</th>\n",
       "      <th>AB</th>\n",
       "    </tr>\n",
       "  </thead>\n",
       "  <tbody>\n",
       "    <tr>\n",
       "      <th>0</th>\n",
       "      <td>aardsda01</td>\n",
       "      <td>4</td>\n",
       "    </tr>\n",
       "    <tr>\n",
       "      <th>1</th>\n",
       "      <td>aaronha01</td>\n",
       "      <td>12364</td>\n",
       "    </tr>\n",
       "    <tr>\n",
       "      <th>2</th>\n",
       "      <td>aaronto01</td>\n",
       "      <td>944</td>\n",
       "    </tr>\n",
       "    <tr>\n",
       "      <th>3</th>\n",
       "      <td>aasedo01</td>\n",
       "      <td>5</td>\n",
       "    </tr>\n",
       "    <tr>\n",
       "      <th>4</th>\n",
       "      <td>abadan01</td>\n",
       "      <td>21</td>\n",
       "    </tr>\n",
       "  </tbody>\n",
       "</table>\n",
       "</div>"
      ],
      "text/plain": [
       "    playerID     AB\n",
       "0  aardsda01      4\n",
       "1  aaronha01  12364\n",
       "2  aaronto01    944\n",
       "3   aasedo01      5\n",
       "4   abadan01     21"
      ]
     },
     "execution_count": 3,
     "metadata": {},
     "output_type": "execute_result"
    }
   ],
   "source": [
    "#group the df by playerID. Some players played on multiple teams over multiple years.\n",
    "#I wanted the sum of data for each player over their career.\n",
    "at_bat=batting_df.groupby('playerID')[['AB']].sum().reset_index()\n",
    "at_bat.head()\n",
    "#I'll be using the at_bat data later"
   ]
  },
  {
   "cell_type": "code",
   "execution_count": 4,
   "metadata": {
    "collapsed": false
   },
   "outputs": [
    {
     "data": {
      "text/html": [
       "<div>\n",
       "<table border=\"1\" class=\"dataframe\">\n",
       "  <thead>\n",
       "    <tr style=\"text-align: right;\">\n",
       "      <th></th>\n",
       "      <th>playerID</th>\n",
       "      <th>R</th>\n",
       "      <th>RBI</th>\n",
       "    </tr>\n",
       "  </thead>\n",
       "  <tbody>\n",
       "    <tr>\n",
       "      <th>0</th>\n",
       "      <td>aardsda01</td>\n",
       "      <td>0</td>\n",
       "      <td>0.0</td>\n",
       "    </tr>\n",
       "    <tr>\n",
       "      <th>1</th>\n",
       "      <td>aaronha01</td>\n",
       "      <td>2174</td>\n",
       "      <td>2297.0</td>\n",
       "    </tr>\n",
       "    <tr>\n",
       "      <th>2</th>\n",
       "      <td>aaronto01</td>\n",
       "      <td>102</td>\n",
       "      <td>94.0</td>\n",
       "    </tr>\n",
       "    <tr>\n",
       "      <th>3</th>\n",
       "      <td>aasedo01</td>\n",
       "      <td>0</td>\n",
       "      <td>0.0</td>\n",
       "    </tr>\n",
       "    <tr>\n",
       "      <th>4</th>\n",
       "      <td>abadan01</td>\n",
       "      <td>1</td>\n",
       "      <td>0.0</td>\n",
       "    </tr>\n",
       "  </tbody>\n",
       "</table>\n",
       "</div>"
      ],
      "text/plain": [
       "    playerID     R     RBI\n",
       "0  aardsda01     0     0.0\n",
       "1  aaronha01  2174  2297.0\n",
       "2  aaronto01   102    94.0\n",
       "3   aasedo01     0     0.0\n",
       "4   abadan01     1     0.0"
      ]
     },
     "execution_count": 4,
     "metadata": {},
     "output_type": "execute_result"
    }
   ],
   "source": [
    "#I need to make a separate dataframe that sums the runs and rbi's\n",
    "scores_df=batting_df.groupby('playerID')[['R','RBI']].sum().reset_index()\n",
    "scores_df.head()"
   ]
  },
  {
   "cell_type": "markdown",
   "metadata": {},
   "source": [
    "At this point, I want to see the how the distribution of Runs and RBI's looks. I also want to look at some summary statistics to confirm what I suspect: that there are a lot of players who have Runs and RBI's equal to zero."
   ]
  },
  {
   "cell_type": "code",
   "execution_count": 5,
   "metadata": {
    "collapsed": false
   },
   "outputs": [
    {
     "name": "stdout",
     "output_type": "stream",
     "text": [
      "Populating the interactive namespace from numpy and matplotlib\n"
     ]
    },
    {
     "data": {
      "text/plain": [
       "<matplotlib.text.Text at 0xde84d30>"
      ]
     },
     "execution_count": 5,
     "metadata": {},
     "output_type": "execute_result"
    },
    {
     "data": {
      "text/plain": [
       "<matplotlib.figure.Figure at 0x9669ba8>"
      ]
     },
     "metadata": {},
     "output_type": "display_data"
    },
    {
     "data": {
      "image/png": "[encoded data removed]",
      "text/plain": [
       "<matplotlib.figure.Figure at 0x96da160>"
      ]
     },
     "metadata": {},
     "output_type": "display_data"
    }
   ],
   "source": [
    "%pylab inline\n",
    "plt.figure();\n",
    "scores_df[['RBI','R']].plot.hist(bins=40,stacked = True)#making a histogram of RBIs and Runs\n",
    "plt.xlabel('Counts of Number of Runs/RBIs')\n",
    "plt.title('Distribution of Counts for Runs/RBIs')"
   ]
  },
  {
   "cell_type": "markdown",
   "metadata": {},
   "source": [
    "So this distribution is strongly right skewed, and there's no surprise there. Players don't stay around if they don't have any or many hits, runs or RBI's. We have a high density of players who might have stayed around a year, got no statistics, and were replaced. Confirming this, we can look at a descriptive summary. We'd expect to see a low mean and a very large standard deviation: the presence of zeroes will bring the mean down, and there will be a few players with a very large number of runs/RBI's, making the spread of the distribution huge."
   ]
  },
  {
   "cell_type": "code",
   "execution_count": 6,
   "metadata": {
    "collapsed": false
   },
   "outputs": [
    {
     "data": {
      "text/html": [
       "<div>\n",
       "<table border=\"1\" class=\"dataframe\">\n",
       "  <thead>\n",
       "    <tr style=\"text-align: right;\">\n",
       "      <th></th>\n",
       "      <th>R</th>\n",
       "      <th>RBI</th>\n",
       "    </tr>\n",
       "  </thead>\n",
       "  <tbody>\n",
       "    <tr>\n",
       "      <th>count</th>\n",
       "      <td>18915.000000</td>\n",
       "      <td>18784.000000</td>\n",
       "    </tr>\n",
       "    <tr>\n",
       "      <th>mean</th>\n",
       "      <td>102.275390</td>\n",
       "      <td>92.689044</td>\n",
       "    </tr>\n",
       "    <tr>\n",
       "      <th>std</th>\n",
       "      <td>238.578514</td>\n",
       "      <td>223.002211</td>\n",
       "    </tr>\n",
       "    <tr>\n",
       "      <th>min</th>\n",
       "      <td>0.000000</td>\n",
       "      <td>0.000000</td>\n",
       "    </tr>\n",
       "    <tr>\n",
       "      <th>25%</th>\n",
       "      <td>0.000000</td>\n",
       "      <td>0.000000</td>\n",
       "    </tr>\n",
       "    <tr>\n",
       "      <th>50%</th>\n",
       "      <td>6.000000</td>\n",
       "      <td>4.000000</td>\n",
       "    </tr>\n",
       "    <tr>\n",
       "      <th>75%</th>\n",
       "      <td>63.000000</td>\n",
       "      <td>55.000000</td>\n",
       "    </tr>\n",
       "    <tr>\n",
       "      <th>max</th>\n",
       "      <td>2295.000000</td>\n",
       "      <td>2297.000000</td>\n",
       "    </tr>\n",
       "  </tbody>\n",
       "</table>\n",
       "</div>"
      ],
      "text/plain": [
       "                  R           RBI\n",
       "count  18915.000000  18784.000000\n",
       "mean     102.275390     92.689044\n",
       "std      238.578514    223.002211\n",
       "min        0.000000      0.000000\n",
       "25%        0.000000      0.000000\n",
       "50%        6.000000      4.000000\n",
       "75%       63.000000     55.000000\n",
       "max     2295.000000   2297.000000"
      ]
     },
     "execution_count": 6,
     "metadata": {},
     "output_type": "execute_result"
    }
   ],
   "source": [
    "scores_df[['R','RBI']].describe()"
   ]
  },
  {
   "cell_type": "markdown",
   "metadata": {},
   "source": [
    "Because of the high standard deviation, and a mean that is very far from the max, I am going to eliminate those players who had zero of both runs and RBI's so I can have a data set of players who contributed to scoring."
   ]
  },
  {
   "cell_type": "code",
   "execution_count": 7,
   "metadata": {
    "collapsed": true
   },
   "outputs": [],
   "source": [
    "#Filter out 0 Runs AND 0 RBIs [hits_df.Total !=0]\n",
    "no_nonzero_runs_rbis = scores_df[scores_df.R & scores_df.RBI !=0]\n",
    "\n",
    "scores = no_nonzero_runs_rbis.sum(axis=1)#take the sum of each row and translate to scores\n",
    "\n",
    "#make a df with the columns so \"scores\" can be added as a col\n",
    "AB_scoring = batting_df.groupby('playerID')[['AB','R','RBI']].sum().reset_index()\n",
    "#eliminate the zero R and RBI so the df can be the same length as \"scores\"\n",
    "AB_scoring = AB_scoring[AB_scoring.R & AB_scoring.RBI !=0]\n"
   ]
  },
  {
   "cell_type": "code",
   "execution_count": 8,
   "metadata": {
    "collapsed": false
   },
   "outputs": [
    {
     "data": {
      "text/html": [
       "<div>\n",
       "<table border=\"1\" class=\"dataframe\">\n",
       "  <thead>\n",
       "    <tr style=\"text-align: right;\">\n",
       "      <th></th>\n",
       "      <th>playerID</th>\n",
       "      <th>AB</th>\n",
       "      <th>R</th>\n",
       "      <th>RBI</th>\n",
       "      <th>Scoring</th>\n",
       "    </tr>\n",
       "  </thead>\n",
       "  <tbody>\n",
       "    <tr>\n",
       "      <th>7</th>\n",
       "      <td>abbated01</td>\n",
       "      <td>3044</td>\n",
       "      <td>355</td>\n",
       "      <td>324.0</td>\n",
       "      <td>679.0</td>\n",
       "    </tr>\n",
       "    <tr>\n",
       "      <th>8</th>\n",
       "      <td>abbeybe01</td>\n",
       "      <td>225</td>\n",
       "      <td>21</td>\n",
       "      <td>17.0</td>\n",
       "      <td>38.0</td>\n",
       "    </tr>\n",
       "    <tr>\n",
       "      <th>9</th>\n",
       "      <td>abbeych01</td>\n",
       "      <td>1751</td>\n",
       "      <td>307</td>\n",
       "      <td>280.0</td>\n",
       "      <td>587.0</td>\n",
       "    </tr>\n",
       "    <tr>\n",
       "      <th>15</th>\n",
       "      <td>abbotku01</td>\n",
       "      <td>2044</td>\n",
       "      <td>273</td>\n",
       "      <td>242.0</td>\n",
       "      <td>515.0</td>\n",
       "    </tr>\n",
       "    <tr>\n",
       "      <th>19</th>\n",
       "      <td>aberal01</td>\n",
       "      <td>100</td>\n",
       "      <td>5</td>\n",
       "      <td>6.0</td>\n",
       "      <td>11.0</td>\n",
       "    </tr>\n",
       "  </tbody>\n",
       "</table>\n",
       "</div>"
      ],
      "text/plain": [
       "     playerID    AB    R    RBI  Scoring\n",
       "7   abbated01  3044  355  324.0    679.0\n",
       "8   abbeybe01   225   21   17.0     38.0\n",
       "9   abbeych01  1751  307  280.0    587.0\n",
       "15  abbotku01  2044  273  242.0    515.0\n",
       "19   aberal01   100    5    6.0     11.0"
      ]
     },
     "execution_count": 8,
     "metadata": {},
     "output_type": "execute_result"
    }
   ],
   "source": [
    "AB_scoring['Scoring']=scores# put the scores on as a col\n",
    "AB_scoring.head()"
   ]
  },
  {
   "cell_type": "code",
   "execution_count": 9,
   "metadata": {
    "collapsed": false
   },
   "outputs": [
    {
     "data": {
      "text/html": [
       "<div>\n",
       "<table border=\"1\" class=\"dataframe\">\n",
       "  <thead>\n",
       "    <tr style=\"text-align: right;\">\n",
       "      <th></th>\n",
       "      <th>playerID</th>\n",
       "      <th>AB</th>\n",
       "      <th>Scoring</th>\n",
       "    </tr>\n",
       "  </thead>\n",
       "  <tbody>\n",
       "    <tr>\n",
       "      <th>7</th>\n",
       "      <td>abbated01</td>\n",
       "      <td>3044</td>\n",
       "      <td>679.0</td>\n",
       "    </tr>\n",
       "    <tr>\n",
       "      <th>8</th>\n",
       "      <td>abbeybe01</td>\n",
       "      <td>225</td>\n",
       "      <td>38.0</td>\n",
       "    </tr>\n",
       "    <tr>\n",
       "      <th>9</th>\n",
       "      <td>abbeych01</td>\n",
       "      <td>1751</td>\n",
       "      <td>587.0</td>\n",
       "    </tr>\n",
       "    <tr>\n",
       "      <th>15</th>\n",
       "      <td>abbotku01</td>\n",
       "      <td>2044</td>\n",
       "      <td>515.0</td>\n",
       "    </tr>\n",
       "    <tr>\n",
       "      <th>19</th>\n",
       "      <td>aberal01</td>\n",
       "      <td>100</td>\n",
       "      <td>11.0</td>\n",
       "    </tr>\n",
       "  </tbody>\n",
       "</table>\n",
       "</div>"
      ],
      "text/plain": [
       "     playerID    AB  Scoring\n",
       "7   abbated01  3044    679.0\n",
       "8   abbeybe01   225     38.0\n",
       "9   abbeych01  1751    587.0\n",
       "15  abbotku01  2044    515.0\n",
       "19   aberal01   100     11.0"
      ]
     },
     "execution_count": 9,
     "metadata": {},
     "output_type": "execute_result"
    }
   ],
   "source": [
    "#delete the R and RBI columns because they are no longer needed\n",
    "del AB_scoring['R']\n",
    "del AB_scoring['RBI']\n",
    "AB_scoring.head()"
   ]
  },
  {
   "cell_type": "markdown",
   "metadata": {},
   "source": [
    "Using a boxplot for description of the distribution gives:"
   ]
  },
  {
   "cell_type": "code",
   "execution_count": 10,
   "metadata": {
    "collapsed": false
   },
   "outputs": [
    {
     "data": {
      "text/plain": [
       "<matplotlib.axes._subplots.AxesSubplot at 0xdc5e710>"
      ]
     },
     "execution_count": 10,
     "metadata": {},
     "output_type": "execute_result"
    },
    {
     "data": {
      "image/png": "[encoded data removed]",
      "text/plain": [
       "<matplotlib.figure.Figure at 0xdc5ee80>"
      ]
     },
     "metadata": {},
     "output_type": "display_data"
    }
   ],
   "source": [
    "color = dict(boxes='DarkBlue',whiskers = 'DarkOrange', medians='Green',caps='Black')\n",
    "AB_scoring.plot.box(vert = False, color = color)"
   ]
  },
  {
   "cell_type": "markdown",
   "metadata": {},
   "source": [
    "The At Bat data is more varied and spread than the scoring. We'll look next at the relationship between scoring and At Bats.\n"
   ]
  },
  {
   "cell_type": "code",
   "execution_count": 11,
   "metadata": {
    "collapsed": false
   },
   "outputs": [
    {
     "data": {
      "text/plain": [
       "<matplotlib.text.Annotation at 0xcf8aa20>"
      ]
     },
     "execution_count": 11,
     "metadata": {},
     "output_type": "execute_result"
    },
    {
     "data": {
      "image/png": "[encoded data removed]",
      "text/plain": [
       "<matplotlib.figure.Figure at 0xcf8ab70>"
      ]
     },
     "metadata": {},
     "output_type": "display_data"
    }
   ],
   "source": [
    "%matplotlib inline\n",
    "import matplotlib.pylab as plt\n",
    "fig,ax=plt.subplots()\n",
    "\n",
    "hb=AB_scoring.plot.hexbin(x='AB', y='Scoring', gridsize=24, bins = 'log',cmap= 'hot', ax=ax)\n",
    "\n",
    "hb.set_xlabel(\"Player At Bats\")\n",
    "hb.set_title(\"At Bats vs Scoring\")\n",
    "#annotating the colorbar area with a title\n",
    "#code from Myles@Udacity forums\n",
    "plt.annotate('Counts (log)', xy=(1, 1), xytext=(10, 20), va='top',  xycoords='axes fraction', textcoords='offset points',color='black')\n",
    "#hexbinning with bins = log\n",
    "\n",
    "#\"Count, 10^x\""
   ]
  },
  {
   "cell_type": "markdown",
   "metadata": {},
   "source": [
    "The bins are similar to a frequency histogram in that, the color represents the number of observations in that grouping. Since the bins are set to 'log'(aka common log), a lighter color represents a greater number of observations. For instance, light yellow is 3 in the colorbar legend, which represents 1000 observations. Red/orange represents around 10 (1 on the colorbar).  As we know from the descriptive statistics, there are quite a few low number of scores for low number of At Bats. As the number of At Bats increases, generally so does the number of Scores, however it is less frequent.  There also appears to be a lot of variation in the number of scores as the At Bats are increased. The relationship appears to follow an exponential trend line, but I'm more interested in looking at the relationship rather than the strength of the relationship. The best players would have a relatively low number of At Bats to high amount of scores, and we can see that is the case for some players as represented by the upper portion of the colored bins, though not many players achieve that. This visualization is not meant to imply that more At Bats causes there to be more scores; but we can make inferences from the general trend between zero and the max number of At Bats."
   ]
  },
  {
   "cell_type": "markdown",
   "metadata": {},
   "source": [
    "There is one more measure to look at, and that is the top ten scorers of all time, just to see how my measure of offense contribution stacks up to the baseball experts. According to ESPN's Hall of 100(http://www.espn.com/mlb/feature/video/_/id/8652210/espn-hall-100-ranking-all-greatest-mlb-players):\n",
    "10: Honus Wagner\n",
    "9:Mickey Mantle\n",
    "8: Stan Musial\n",
    "7: Roger Clemens\n",
    "6: Ty Cobb\n",
    "5: Hank Aaron\n",
    "4: Ted Williams\n",
    "3: Barry Bonds\n",
    "2: Willie Mays\n",
    "1: Babe Ruth"
   ]
  },
  {
   "cell_type": "code",
   "execution_count": 12,
   "metadata": {
    "collapsed": true
   },
   "outputs": [],
   "source": [
    "#using the function Caroline taught us in the lessons, but modified slightly\n",
    "def column_sort(column):\n",
    "    sorted_column = column.sort_values(ascending=False)#descending order: highest to lowest\n",
    "    return sorted_column.iloc[0:10]#make a slice of the top ten"
   ]
  },
  {
   "cell_type": "code",
   "execution_count": 13,
   "metadata": {
    "collapsed": false
   },
   "outputs": [
    {
     "data": {
      "text/html": [
       "<div>\n",
       "<table border=\"1\" class=\"dataframe\">\n",
       "  <thead>\n",
       "    <tr style=\"text-align: right;\">\n",
       "      <th></th>\n",
       "      <th>Scoring</th>\n",
       "    </tr>\n",
       "  </thead>\n",
       "  <tbody>\n",
       "    <tr>\n",
       "      <th>1542</th>\n",
       "      <td>4223.0</td>\n",
       "    </tr>\n",
       "    <tr>\n",
       "      <th>14528</th>\n",
       "      <td>4107.0</td>\n",
       "    </tr>\n",
       "    <tr>\n",
       "      <th>12205</th>\n",
       "      <td>3900.0</td>\n",
       "    </tr>\n",
       "    <tr>\n",
       "      <th>12876</th>\n",
       "      <td>3719.0</td>\n",
       "    </tr>\n",
       "    <tr>\n",
       "      <th>5600</th>\n",
       "      <td>3673.0</td>\n",
       "    </tr>\n",
       "    <tr>\n",
       "      <th>14484</th>\n",
       "      <td>3641.0</td>\n",
       "    </tr>\n",
       "    <tr>\n",
       "      <th>12183</th>\n",
       "      <td>3544.0</td>\n",
       "    </tr>\n",
       "    <tr>\n",
       "      <th>18479</th>\n",
       "      <td>3502.0</td>\n",
       "    </tr>\n",
       "    <tr>\n",
       "      <th>12970</th>\n",
       "      <td>3498.0</td>\n",
       "    </tr>\n",
       "    <tr>\n",
       "      <th>14719</th>\n",
       "      <td>3479.0</td>\n",
       "    </tr>\n",
       "  </tbody>\n",
       "</table>\n",
       "</div>"
      ],
      "text/plain": [
       "       Scoring\n",
       "1542    4223.0\n",
       "14528   4107.0\n",
       "12205   3900.0\n",
       "12876   3719.0\n",
       "5600    3673.0\n",
       "14484   3641.0\n",
       "12183   3544.0\n",
       "18479   3502.0\n",
       "12970   3498.0\n",
       "14719   3479.0"
      ]
     },
     "execution_count": 13,
     "metadata": {},
     "output_type": "execute_result"
    }
   ],
   "source": [
    "top_ten_scorers=AB_scoring[['Scoring']].apply(column_sort)#finding the top ten scorers\n",
    "top_ten_scorers"
   ]
  },
  {
   "cell_type": "code",
   "execution_count": 14,
   "metadata": {
    "collapsed": false
   },
   "outputs": [
    {
     "data": {
      "text/html": [
       "<div>\n",
       "<table border=\"1\" class=\"dataframe\">\n",
       "  <thead>\n",
       "    <tr style=\"text-align: right;\">\n",
       "      <th></th>\n",
       "      <th>Scoring</th>\n",
       "      <th>playerID</th>\n",
       "      <th>AB</th>\n",
       "    </tr>\n",
       "  </thead>\n",
       "  <tbody>\n",
       "    <tr>\n",
       "      <th>0</th>\n",
       "      <td>4223.0</td>\n",
       "      <td>bondsba01</td>\n",
       "      <td>9847</td>\n",
       "    </tr>\n",
       "    <tr>\n",
       "      <th>1</th>\n",
       "      <td>4107.0</td>\n",
       "      <td>rodrial01</td>\n",
       "      <td>10566</td>\n",
       "    </tr>\n",
       "    <tr>\n",
       "      <th>2</th>\n",
       "      <td>3900.0</td>\n",
       "      <td>musiast01</td>\n",
       "      <td>10972</td>\n",
       "    </tr>\n",
       "    <tr>\n",
       "      <th>3</th>\n",
       "      <td>3719.0</td>\n",
       "      <td>ottme01</td>\n",
       "      <td>9456</td>\n",
       "    </tr>\n",
       "    <tr>\n",
       "      <th>4</th>\n",
       "      <td>3673.0</td>\n",
       "      <td>foxxji01</td>\n",
       "      <td>8134</td>\n",
       "    </tr>\n",
       "    <tr>\n",
       "      <th>5</th>\n",
       "      <td>3641.0</td>\n",
       "      <td>robinfr02</td>\n",
       "      <td>10006</td>\n",
       "    </tr>\n",
       "    <tr>\n",
       "      <th>6</th>\n",
       "      <td>3544.0</td>\n",
       "      <td>murraed02</td>\n",
       "      <td>11336</td>\n",
       "    </tr>\n",
       "    <tr>\n",
       "      <th>7</th>\n",
       "      <td>3502.0</td>\n",
       "      <td>winfida01</td>\n",
       "      <td>11003</td>\n",
       "    </tr>\n",
       "    <tr>\n",
       "      <th>8</th>\n",
       "      <td>3498.0</td>\n",
       "      <td>palmera01</td>\n",
       "      <td>10472</td>\n",
       "    </tr>\n",
       "    <tr>\n",
       "      <th>9</th>\n",
       "      <td>3479.0</td>\n",
       "      <td>rosepe01</td>\n",
       "      <td>14053</td>\n",
       "    </tr>\n",
       "  </tbody>\n",
       "</table>\n",
       "</div>"
      ],
      "text/plain": [
       "   Scoring   playerID     AB\n",
       "0   4223.0  bondsba01   9847\n",
       "1   4107.0  rodrial01  10566\n",
       "2   3900.0  musiast01  10972\n",
       "3   3719.0    ottme01   9456\n",
       "4   3673.0   foxxji01   8134\n",
       "5   3641.0  robinfr02  10006\n",
       "6   3544.0  murraed02  11336\n",
       "7   3502.0  winfida01  11003\n",
       "8   3498.0  palmera01  10472\n",
       "9   3479.0   rosepe01  14053"
      ]
     },
     "execution_count": 14,
     "metadata": {},
     "output_type": "execute_result"
    }
   ],
   "source": [
    "best_scorers=top_ten_scorers.merge(AB_scoring, on ='Scoring',how = 'left')#merge with AB_scoring to get names\n",
    "best_scorers"
   ]
  },
  {
   "cell_type": "markdown",
   "metadata": {},
   "source": [
    "Some interesting things to note: Many of my top ten scorers are not in ESPN's which implies there are is a lot more to being the best than scores alone. Also, foxxji01, ottme01, and bondsba01 have a fairly low number of At Bats, while having a relatively larger number of scores. Foxxji01 has the lowest number of At Bats, while his Scoring is in the 3rd quartile. And bondsba01 has the max Scoring, while residing in the 1st quartile for At Bats."
   ]
  },
  {
   "cell_type": "code",
   "execution_count": 15,
   "metadata": {
    "collapsed": false
   },
   "outputs": [
    {
     "data": {
      "text/html": [
       "<div>\n",
       "<table border=\"1\" class=\"dataframe\">\n",
       "  <thead>\n",
       "    <tr style=\"text-align: right;\">\n",
       "      <th></th>\n",
       "      <th>Scoring</th>\n",
       "      <th>AB</th>\n",
       "    </tr>\n",
       "  </thead>\n",
       "  <tbody>\n",
       "    <tr>\n",
       "      <th>count</th>\n",
       "      <td>10.00000</td>\n",
       "      <td>10.000000</td>\n",
       "    </tr>\n",
       "    <tr>\n",
       "      <th>mean</th>\n",
       "      <td>3728.60000</td>\n",
       "      <td>10584.500000</td>\n",
       "    </tr>\n",
       "    <tr>\n",
       "      <th>std</th>\n",
       "      <td>264.31345</td>\n",
       "      <td>1530.815777</td>\n",
       "    </tr>\n",
       "    <tr>\n",
       "      <th>min</th>\n",
       "      <td>3479.00000</td>\n",
       "      <td>8134.000000</td>\n",
       "    </tr>\n",
       "    <tr>\n",
       "      <th>25%</th>\n",
       "      <td>3512.50000</td>\n",
       "      <td>9886.750000</td>\n",
       "    </tr>\n",
       "    <tr>\n",
       "      <th>50%</th>\n",
       "      <td>3657.00000</td>\n",
       "      <td>10519.000000</td>\n",
       "    </tr>\n",
       "    <tr>\n",
       "      <th>75%</th>\n",
       "      <td>3854.75000</td>\n",
       "      <td>10995.250000</td>\n",
       "    </tr>\n",
       "    <tr>\n",
       "      <th>max</th>\n",
       "      <td>4223.00000</td>\n",
       "      <td>14053.000000</td>\n",
       "    </tr>\n",
       "  </tbody>\n",
       "</table>\n",
       "</div>"
      ],
      "text/plain": [
       "          Scoring            AB\n",
       "count    10.00000     10.000000\n",
       "mean   3728.60000  10584.500000\n",
       "std     264.31345   1530.815777\n",
       "min    3479.00000   8134.000000\n",
       "25%    3512.50000   9886.750000\n",
       "50%    3657.00000  10519.000000\n",
       "75%    3854.75000  10995.250000\n",
       "max    4223.00000  14053.000000"
      ]
     },
     "execution_count": 15,
     "metadata": {},
     "output_type": "execute_result"
    }
   ],
   "source": [
    "best_scorers[['Scoring','AB']].describe()"
   ]
  },
  {
   "cell_type": "markdown",
   "metadata": {},
   "source": [
    "This is an unexpected result of the analysis. I simply wanted to find who the best scorers are, but as I look at the number of At Bats each individual has, and who batted the least but had the higher scores, I want to find a ratio that would inform me who has the highest scoring percentage. In other words, which player would be most likely to produce a run or RBI if in a clutch moment?"
   ]
  },
  {
   "cell_type": "code",
   "execution_count": 16,
   "metadata": {
    "collapsed": false
   },
   "outputs": [],
   "source": [
    "scoring_percentage=best_scorers['Scoring'].div(best_scorers['AB'],axis='index')\n",
    "#finding the scoring percentage"
   ]
  },
  {
   "cell_type": "code",
   "execution_count": 17,
   "metadata": {
    "collapsed": false
   },
   "outputs": [
    {
     "data": {
      "text/html": [
       "<div>\n",
       "<table border=\"1\" class=\"dataframe\">\n",
       "  <thead>\n",
       "    <tr style=\"text-align: right;\">\n",
       "      <th></th>\n",
       "      <th>playerID</th>\n",
       "      <th>Scoring</th>\n",
       "      <th>AB</th>\n",
       "      <th>Scoring Percentage</th>\n",
       "    </tr>\n",
       "  </thead>\n",
       "  <tbody>\n",
       "    <tr>\n",
       "      <th>0</th>\n",
       "      <td>bondsba01</td>\n",
       "      <td>4223.0</td>\n",
       "      <td>9847</td>\n",
       "      <td>0.428862</td>\n",
       "    </tr>\n",
       "    <tr>\n",
       "      <th>1</th>\n",
       "      <td>rodrial01</td>\n",
       "      <td>4107.0</td>\n",
       "      <td>10566</td>\n",
       "      <td>0.388700</td>\n",
       "    </tr>\n",
       "    <tr>\n",
       "      <th>2</th>\n",
       "      <td>musiast01</td>\n",
       "      <td>3900.0</td>\n",
       "      <td>10972</td>\n",
       "      <td>0.355450</td>\n",
       "    </tr>\n",
       "    <tr>\n",
       "      <th>3</th>\n",
       "      <td>ottme01</td>\n",
       "      <td>3719.0</td>\n",
       "      <td>9456</td>\n",
       "      <td>0.393295</td>\n",
       "    </tr>\n",
       "    <tr>\n",
       "      <th>4</th>\n",
       "      <td>foxxji01</td>\n",
       "      <td>3673.0</td>\n",
       "      <td>8134</td>\n",
       "      <td>0.451561</td>\n",
       "    </tr>\n",
       "    <tr>\n",
       "      <th>5</th>\n",
       "      <td>robinfr02</td>\n",
       "      <td>3641.0</td>\n",
       "      <td>10006</td>\n",
       "      <td>0.363882</td>\n",
       "    </tr>\n",
       "    <tr>\n",
       "      <th>6</th>\n",
       "      <td>murraed02</td>\n",
       "      <td>3544.0</td>\n",
       "      <td>11336</td>\n",
       "      <td>0.312632</td>\n",
       "    </tr>\n",
       "    <tr>\n",
       "      <th>7</th>\n",
       "      <td>winfida01</td>\n",
       "      <td>3502.0</td>\n",
       "      <td>11003</td>\n",
       "      <td>0.318277</td>\n",
       "    </tr>\n",
       "    <tr>\n",
       "      <th>8</th>\n",
       "      <td>palmera01</td>\n",
       "      <td>3498.0</td>\n",
       "      <td>10472</td>\n",
       "      <td>0.334034</td>\n",
       "    </tr>\n",
       "    <tr>\n",
       "      <th>9</th>\n",
       "      <td>rosepe01</td>\n",
       "      <td>3479.0</td>\n",
       "      <td>14053</td>\n",
       "      <td>0.247563</td>\n",
       "    </tr>\n",
       "  </tbody>\n",
       "</table>\n",
       "</div>"
      ],
      "text/plain": [
       "    playerID  Scoring     AB  Scoring Percentage\n",
       "0  bondsba01   4223.0   9847            0.428862\n",
       "1  rodrial01   4107.0  10566            0.388700\n",
       "2  musiast01   3900.0  10972            0.355450\n",
       "3    ottme01   3719.0   9456            0.393295\n",
       "4   foxxji01   3673.0   8134            0.451561\n",
       "5  robinfr02   3641.0  10006            0.363882\n",
       "6  murraed02   3544.0  11336            0.312632\n",
       "7  winfida01   3502.0  11003            0.318277\n",
       "8  palmera01   3498.0  10472            0.334034\n",
       "9   rosepe01   3479.0  14053            0.247563"
      ]
     },
     "execution_count": 17,
     "metadata": {},
     "output_type": "execute_result"
    }
   ],
   "source": [
    "best_scorers['Scoring Percentage']=scoring_percentage#adding the Scoring Percentage column\n",
    "best_scorers[['playerID','Scoring','AB','Scoring Percentage']]#making the df look readable"
   ]
  },
  {
   "cell_type": "markdown",
   "metadata": {},
   "source": [
    "As I suspected, foxxji01(Jimmie Foxx) has the highest scoring percentage, with Bonds following after."
   ]
  },
  {
   "cell_type": "markdown",
   "metadata": {},
   "source": [
    "2) What role does the raw number of hits play in determining the great baseball players?\n",
    "We can look at both the raw number of hits and the top ten individuals who had the most. We can then look at how it relates to ESPN's top player list. I think it would be interesting to also compare the number, again to the total At Bats, so we can see who had the highest frequency per bat. According to one take-away from the movie \"Moneyball\", getting on base is a valuable commodity in baseball. Whether it is by talent(hits) or reputation(walks or BB), getting on base puts a player in a better scoring position."
   ]
  },
  {
   "cell_type": "code",
   "execution_count": 18,
   "metadata": {
    "collapsed": false
   },
   "outputs": [
    {
     "data": {
      "text/html": [
       "<div>\n",
       "<table border=\"1\" class=\"dataframe\">\n",
       "  <thead>\n",
       "    <tr style=\"text-align: right;\">\n",
       "      <th></th>\n",
       "      <th>playerID</th>\n",
       "      <th>yearID</th>\n",
       "      <th>stint</th>\n",
       "      <th>teamID</th>\n",
       "      <th>lgID</th>\n",
       "      <th>G</th>\n",
       "      <th>AB</th>\n",
       "      <th>R</th>\n",
       "      <th>H</th>\n",
       "      <th>2B</th>\n",
       "      <th>...</th>\n",
       "      <th>RBI</th>\n",
       "      <th>SB</th>\n",
       "      <th>CS</th>\n",
       "      <th>BB</th>\n",
       "      <th>SO</th>\n",
       "      <th>IBB</th>\n",
       "      <th>HBP</th>\n",
       "      <th>SH</th>\n",
       "      <th>SF</th>\n",
       "      <th>GIDP</th>\n",
       "    </tr>\n",
       "  </thead>\n",
       "  <tbody>\n",
       "    <tr>\n",
       "      <th>0</th>\n",
       "      <td>abercda01</td>\n",
       "      <td>1871</td>\n",
       "      <td>1</td>\n",
       "      <td>TRO</td>\n",
       "      <td>NaN</td>\n",
       "      <td>1</td>\n",
       "      <td>4</td>\n",
       "      <td>0</td>\n",
       "      <td>0</td>\n",
       "      <td>0</td>\n",
       "      <td>...</td>\n",
       "      <td>0.0</td>\n",
       "      <td>0.0</td>\n",
       "      <td>0.0</td>\n",
       "      <td>0</td>\n",
       "      <td>0.0</td>\n",
       "      <td>NaN</td>\n",
       "      <td>NaN</td>\n",
       "      <td>NaN</td>\n",
       "      <td>NaN</td>\n",
       "      <td>NaN</td>\n",
       "    </tr>\n",
       "    <tr>\n",
       "      <th>1</th>\n",
       "      <td>addybo01</td>\n",
       "      <td>1871</td>\n",
       "      <td>1</td>\n",
       "      <td>RC1</td>\n",
       "      <td>NaN</td>\n",
       "      <td>25</td>\n",
       "      <td>118</td>\n",
       "      <td>30</td>\n",
       "      <td>32</td>\n",
       "      <td>6</td>\n",
       "      <td>...</td>\n",
       "      <td>13.0</td>\n",
       "      <td>8.0</td>\n",
       "      <td>1.0</td>\n",
       "      <td>4</td>\n",
       "      <td>0.0</td>\n",
       "      <td>NaN</td>\n",
       "      <td>NaN</td>\n",
       "      <td>NaN</td>\n",
       "      <td>NaN</td>\n",
       "      <td>NaN</td>\n",
       "    </tr>\n",
       "  </tbody>\n",
       "</table>\n",
       "<p>2 rows × 22 columns</p>\n",
       "</div>"
      ],
      "text/plain": [
       "    playerID  yearID  stint teamID lgID   G   AB   R   H  2B  ...    RBI   SB  \\\n",
       "0  abercda01    1871      1    TRO  NaN   1    4   0   0   0  ...    0.0  0.0   \n",
       "1   addybo01    1871      1    RC1  NaN  25  118  30  32   6  ...   13.0  8.0   \n",
       "\n",
       "    CS  BB   SO  IBB  HBP  SH  SF  GIDP  \n",
       "0  0.0   0  0.0  NaN  NaN NaN NaN   NaN  \n",
       "1  1.0   4  0.0  NaN  NaN NaN NaN   NaN  \n",
       "\n",
       "[2 rows x 22 columns]"
      ]
     },
     "execution_count": 18,
     "metadata": {},
     "output_type": "execute_result"
    }
   ],
   "source": [
    "#batting_df is already loaded into python, but we'll take a look at it again\n",
    "batting_df.head(n=2)\n"
   ]
  },
  {
   "cell_type": "code",
   "execution_count": 19,
   "metadata": {
    "collapsed": false
   },
   "outputs": [
    {
     "data": {
      "text/html": [
       "<div>\n",
       "<table border=\"1\" class=\"dataframe\">\n",
       "  <thead>\n",
       "    <tr style=\"text-align: right;\">\n",
       "      <th></th>\n",
       "      <th>playerID</th>\n",
       "      <th>H</th>\n",
       "      <th>2B</th>\n",
       "      <th>3B</th>\n",
       "      <th>HR</th>\n",
       "      <th>BB</th>\n",
       "    </tr>\n",
       "  </thead>\n",
       "  <tbody>\n",
       "    <tr>\n",
       "      <th>0</th>\n",
       "      <td>aardsda01</td>\n",
       "      <td>0</td>\n",
       "      <td>0</td>\n",
       "      <td>0</td>\n",
       "      <td>0</td>\n",
       "      <td>0</td>\n",
       "    </tr>\n",
       "    <tr>\n",
       "      <th>1</th>\n",
       "      <td>aaronha01</td>\n",
       "      <td>3771</td>\n",
       "      <td>624</td>\n",
       "      <td>98</td>\n",
       "      <td>755</td>\n",
       "      <td>1402</td>\n",
       "    </tr>\n",
       "    <tr>\n",
       "      <th>2</th>\n",
       "      <td>aaronto01</td>\n",
       "      <td>216</td>\n",
       "      <td>42</td>\n",
       "      <td>6</td>\n",
       "      <td>13</td>\n",
       "      <td>86</td>\n",
       "    </tr>\n",
       "    <tr>\n",
       "      <th>3</th>\n",
       "      <td>aasedo01</td>\n",
       "      <td>0</td>\n",
       "      <td>0</td>\n",
       "      <td>0</td>\n",
       "      <td>0</td>\n",
       "      <td>0</td>\n",
       "    </tr>\n",
       "    <tr>\n",
       "      <th>4</th>\n",
       "      <td>abadan01</td>\n",
       "      <td>2</td>\n",
       "      <td>0</td>\n",
       "      <td>0</td>\n",
       "      <td>0</td>\n",
       "      <td>4</td>\n",
       "    </tr>\n",
       "  </tbody>\n",
       "</table>\n",
       "</div>"
      ],
      "text/plain": [
       "    playerID     H   2B  3B   HR    BB\n",
       "0  aardsda01     0    0   0    0     0\n",
       "1  aaronha01  3771  624  98  755  1402\n",
       "2  aaronto01   216   42   6   13    86\n",
       "3   aasedo01     0    0   0    0     0\n",
       "4   abadan01     2    0   0    0     4"
      ]
     },
     "execution_count": 19,
     "metadata": {},
     "output_type": "execute_result"
    }
   ],
   "source": [
    "hits_df = batting_df.groupby('playerID')[['H','2B','3B','HR','BB']].sum().reset_index()\n",
    "hits_df.head()"
   ]
  },
  {
   "cell_type": "markdown",
   "metadata": {},
   "source": [
    "Hits (H) is inclusive of singles(not shown), doubles(2B) and triples(3B). My measure is going to be how many bases the player took. In other words, a double is worth 2 bases, a triple is 3 bases and so on. I need to find how many singles the player had, so I will take the sum of the 2B, 3B, and HR and subtract from the total H. Then I will find the total number of bases."
   ]
  },
  {
   "cell_type": "code",
   "execution_count": 20,
   "metadata": {
    "collapsed": true
   },
   "outputs": [],
   "source": [
    "not_singles=batting_df.groupby('playerID')[['2B','3B','HR']].sum()\n",
    "#making a new df with doubles, triples, and HR"
   ]
  },
  {
   "cell_type": "code",
   "execution_count": 21,
   "metadata": {
    "collapsed": false
   },
   "outputs": [
    {
     "data": {
      "text/html": [
       "<div>\n",
       "<table border=\"1\" class=\"dataframe\">\n",
       "  <thead>\n",
       "    <tr style=\"text-align: right;\">\n",
       "      <th></th>\n",
       "      <th>playerID</th>\n",
       "      <th>2B</th>\n",
       "      <th>3B</th>\n",
       "      <th>HR</th>\n",
       "    </tr>\n",
       "  </thead>\n",
       "  <tbody>\n",
       "    <tr>\n",
       "      <th>0</th>\n",
       "      <td>aardsda01</td>\n",
       "      <td>0</td>\n",
       "      <td>0</td>\n",
       "      <td>0</td>\n",
       "    </tr>\n",
       "    <tr>\n",
       "      <th>1</th>\n",
       "      <td>aaronha01</td>\n",
       "      <td>624</td>\n",
       "      <td>98</td>\n",
       "      <td>755</td>\n",
       "    </tr>\n",
       "    <tr>\n",
       "      <th>2</th>\n",
       "      <td>aaronto01</td>\n",
       "      <td>42</td>\n",
       "      <td>6</td>\n",
       "      <td>13</td>\n",
       "    </tr>\n",
       "    <tr>\n",
       "      <th>3</th>\n",
       "      <td>aasedo01</td>\n",
       "      <td>0</td>\n",
       "      <td>0</td>\n",
       "      <td>0</td>\n",
       "    </tr>\n",
       "    <tr>\n",
       "      <th>4</th>\n",
       "      <td>abadan01</td>\n",
       "      <td>0</td>\n",
       "      <td>0</td>\n",
       "      <td>0</td>\n",
       "    </tr>\n",
       "  </tbody>\n",
       "</table>\n",
       "</div>"
      ],
      "text/plain": [
       "    playerID   2B  3B   HR\n",
       "0  aardsda01    0   0    0\n",
       "1  aaronha01  624  98  755\n",
       "2  aaronto01   42   6   13\n",
       "3   aasedo01    0   0    0\n",
       "4   abadan01    0   0    0"
      ]
     },
     "execution_count": 21,
     "metadata": {},
     "output_type": "execute_result"
    }
   ],
   "source": [
    "not_singles.reset_index().head()"
   ]
  },
  {
   "cell_type": "code",
   "execution_count": 22,
   "metadata": {
    "collapsed": false
   },
   "outputs": [
    {
     "data": {
      "text/plain": [
       "playerID\n",
       "aardsda01       0\n",
       "aaronha01    1477\n",
       "aaronto01      61\n",
       "aasedo01        0\n",
       "abadan01        0\n",
       "dtype: int64"
      ]
     },
     "execution_count": 22,
     "metadata": {},
     "output_type": "execute_result"
    }
   ],
   "source": [
    "total=not_singles.sum(axis=1)#sum the rows by player to get the total 2B,3B,HR\n",
    "total.head()"
   ]
  },
  {
   "cell_type": "code",
   "execution_count": 23,
   "metadata": {
    "collapsed": false
   },
   "outputs": [
    {
     "data": {
      "text/html": [
       "<div>\n",
       "<table border=\"1\" class=\"dataframe\">\n",
       "  <thead>\n",
       "    <tr style=\"text-align: right;\">\n",
       "      <th></th>\n",
       "      <th>2B</th>\n",
       "      <th>3B</th>\n",
       "      <th>HR</th>\n",
       "      <th>total</th>\n",
       "    </tr>\n",
       "    <tr>\n",
       "      <th>playerID</th>\n",
       "      <th></th>\n",
       "      <th></th>\n",
       "      <th></th>\n",
       "      <th></th>\n",
       "    </tr>\n",
       "  </thead>\n",
       "  <tbody>\n",
       "    <tr>\n",
       "      <th>aardsda01</th>\n",
       "      <td>0</td>\n",
       "      <td>0</td>\n",
       "      <td>0</td>\n",
       "      <td>0</td>\n",
       "    </tr>\n",
       "    <tr>\n",
       "      <th>aaronha01</th>\n",
       "      <td>624</td>\n",
       "      <td>98</td>\n",
       "      <td>755</td>\n",
       "      <td>1477</td>\n",
       "    </tr>\n",
       "    <tr>\n",
       "      <th>aaronto01</th>\n",
       "      <td>42</td>\n",
       "      <td>6</td>\n",
       "      <td>13</td>\n",
       "      <td>61</td>\n",
       "    </tr>\n",
       "    <tr>\n",
       "      <th>aasedo01</th>\n",
       "      <td>0</td>\n",
       "      <td>0</td>\n",
       "      <td>0</td>\n",
       "      <td>0</td>\n",
       "    </tr>\n",
       "    <tr>\n",
       "      <th>abadan01</th>\n",
       "      <td>0</td>\n",
       "      <td>0</td>\n",
       "      <td>0</td>\n",
       "      <td>0</td>\n",
       "    </tr>\n",
       "  </tbody>\n",
       "</table>\n",
       "</div>"
      ],
      "text/plain": [
       "            2B  3B   HR  total\n",
       "playerID                      \n",
       "aardsda01    0   0    0      0\n",
       "aaronha01  624  98  755   1477\n",
       "aaronto01   42   6   13     61\n",
       "aasedo01     0   0    0      0\n",
       "abadan01     0   0    0      0"
      ]
     },
     "execution_count": 23,
     "metadata": {},
     "output_type": "execute_result"
    }
   ],
   "source": [
    "not_singles['total']=total#add the column to the not_singles df\n",
    "not_singles.head()"
   ]
  },
  {
   "cell_type": "code",
   "execution_count": 24,
   "metadata": {
    "collapsed": false
   },
   "outputs": [],
   "source": [
    "not_singles=not_singles.reset_index()"
   ]
  },
  {
   "cell_type": "code",
   "execution_count": 25,
   "metadata": {
    "collapsed": true
   },
   "outputs": [],
   "source": [
    "hits_df['Singles']=hits_df.H - not_singles.total#subtract the total column from the hits column"
   ]
  },
  {
   "cell_type": "code",
   "execution_count": 26,
   "metadata": {
    "collapsed": false
   },
   "outputs": [
    {
     "data": {
      "text/html": [
       "<div>\n",
       "<table border=\"1\" class=\"dataframe\">\n",
       "  <thead>\n",
       "    <tr style=\"text-align: right;\">\n",
       "      <th></th>\n",
       "      <th>playerID</th>\n",
       "      <th>H</th>\n",
       "      <th>2B</th>\n",
       "      <th>3B</th>\n",
       "      <th>HR</th>\n",
       "      <th>BB</th>\n",
       "      <th>Singles</th>\n",
       "    </tr>\n",
       "  </thead>\n",
       "  <tbody>\n",
       "    <tr>\n",
       "      <th>0</th>\n",
       "      <td>aardsda01</td>\n",
       "      <td>0</td>\n",
       "      <td>0</td>\n",
       "      <td>0</td>\n",
       "      <td>0</td>\n",
       "      <td>0</td>\n",
       "      <td>0</td>\n",
       "    </tr>\n",
       "    <tr>\n",
       "      <th>1</th>\n",
       "      <td>aaronha01</td>\n",
       "      <td>3771</td>\n",
       "      <td>624</td>\n",
       "      <td>98</td>\n",
       "      <td>755</td>\n",
       "      <td>1402</td>\n",
       "      <td>2294</td>\n",
       "    </tr>\n",
       "    <tr>\n",
       "      <th>2</th>\n",
       "      <td>aaronto01</td>\n",
       "      <td>216</td>\n",
       "      <td>42</td>\n",
       "      <td>6</td>\n",
       "      <td>13</td>\n",
       "      <td>86</td>\n",
       "      <td>155</td>\n",
       "    </tr>\n",
       "    <tr>\n",
       "      <th>3</th>\n",
       "      <td>aasedo01</td>\n",
       "      <td>0</td>\n",
       "      <td>0</td>\n",
       "      <td>0</td>\n",
       "      <td>0</td>\n",
       "      <td>0</td>\n",
       "      <td>0</td>\n",
       "    </tr>\n",
       "    <tr>\n",
       "      <th>4</th>\n",
       "      <td>abadan01</td>\n",
       "      <td>2</td>\n",
       "      <td>0</td>\n",
       "      <td>0</td>\n",
       "      <td>0</td>\n",
       "      <td>4</td>\n",
       "      <td>2</td>\n",
       "    </tr>\n",
       "  </tbody>\n",
       "</table>\n",
       "</div>"
      ],
      "text/plain": [
       "    playerID     H   2B  3B   HR    BB  Singles\n",
       "0  aardsda01     0    0   0    0     0        0\n",
       "1  aaronha01  3771  624  98  755  1402     2294\n",
       "2  aaronto01   216   42   6   13    86      155\n",
       "3   aasedo01     0    0   0    0     0        0\n",
       "4   abadan01     2    0   0    0     4        2"
      ]
     },
     "execution_count": 26,
     "metadata": {},
     "output_type": "execute_result"
    }
   ],
   "source": [
    "hits_df.head()"
   ]
  },
  {
   "cell_type": "code",
   "execution_count": 27,
   "metadata": {
    "collapsed": true
   },
   "outputs": [],
   "source": [
    "del hits_df['H']#delete the hits column, it's just extra"
   ]
  },
  {
   "cell_type": "code",
   "execution_count": 28,
   "metadata": {
    "collapsed": false
   },
   "outputs": [
    {
     "data": {
      "text/html": [
       "<div>\n",
       "<table border=\"1\" class=\"dataframe\">\n",
       "  <thead>\n",
       "    <tr style=\"text-align: right;\">\n",
       "      <th></th>\n",
       "      <th>playerID</th>\n",
       "      <th>2B</th>\n",
       "      <th>3B</th>\n",
       "      <th>HR</th>\n",
       "      <th>BB</th>\n",
       "      <th>Singles</th>\n",
       "    </tr>\n",
       "  </thead>\n",
       "  <tbody>\n",
       "    <tr>\n",
       "      <th>0</th>\n",
       "      <td>aardsda01</td>\n",
       "      <td>0</td>\n",
       "      <td>0</td>\n",
       "      <td>0</td>\n",
       "      <td>0</td>\n",
       "      <td>0</td>\n",
       "    </tr>\n",
       "    <tr>\n",
       "      <th>1</th>\n",
       "      <td>aaronha01</td>\n",
       "      <td>624</td>\n",
       "      <td>98</td>\n",
       "      <td>755</td>\n",
       "      <td>1402</td>\n",
       "      <td>2294</td>\n",
       "    </tr>\n",
       "    <tr>\n",
       "      <th>2</th>\n",
       "      <td>aaronto01</td>\n",
       "      <td>42</td>\n",
       "      <td>6</td>\n",
       "      <td>13</td>\n",
       "      <td>86</td>\n",
       "      <td>155</td>\n",
       "    </tr>\n",
       "    <tr>\n",
       "      <th>3</th>\n",
       "      <td>aasedo01</td>\n",
       "      <td>0</td>\n",
       "      <td>0</td>\n",
       "      <td>0</td>\n",
       "      <td>0</td>\n",
       "      <td>0</td>\n",
       "    </tr>\n",
       "    <tr>\n",
       "      <th>4</th>\n",
       "      <td>abadan01</td>\n",
       "      <td>0</td>\n",
       "      <td>0</td>\n",
       "      <td>0</td>\n",
       "      <td>4</td>\n",
       "      <td>2</td>\n",
       "    </tr>\n",
       "  </tbody>\n",
       "</table>\n",
       "</div>"
      ],
      "text/plain": [
       "    playerID   2B  3B   HR    BB  Singles\n",
       "0  aardsda01    0   0    0     0        0\n",
       "1  aaronha01  624  98  755  1402     2294\n",
       "2  aaronto01   42   6   13    86      155\n",
       "3   aasedo01    0   0    0     0        0\n",
       "4   abadan01    0   0    0     4        2"
      ]
     },
     "execution_count": 28,
     "metadata": {},
     "output_type": "execute_result"
    }
   ],
   "source": [
    "hits_df.head()"
   ]
  },
  {
   "cell_type": "code",
   "execution_count": 29,
   "metadata": {
    "collapsed": true
   },
   "outputs": [],
   "source": [
    "'''define three functions that I will apply to the hits_df df to turn the \n",
    "number 2B,3B, and HR into bases\n",
    "'''\n",
    "def triples_into_hits(triples):\n",
    "    return triples*3\n",
    "def doubles_into_hits(doubles):\n",
    "    return doubles*2\n",
    "def hr_into_hits(hrs):\n",
    "    return hrs*4"
   ]
  },
  {
   "cell_type": "code",
   "execution_count": 30,
   "metadata": {
    "collapsed": false
   },
   "outputs": [],
   "source": [
    "hits_df['2xHits']=hits_df[['2B']].apply(doubles_into_hits)\n",
    "hits_df['3xHits']=hits_df[['3B']].apply(triples_into_hits)\n",
    "hits_df['4xHits']=hits_df[['HR']].apply(hr_into_hits)"
   ]
  },
  {
   "cell_type": "code",
   "execution_count": 31,
   "metadata": {
    "collapsed": false
   },
   "outputs": [
    {
     "data": {
      "text/html": [
       "<div>\n",
       "<table border=\"1\" class=\"dataframe\">\n",
       "  <thead>\n",
       "    <tr style=\"text-align: right;\">\n",
       "      <th></th>\n",
       "      <th>playerID</th>\n",
       "      <th>2B</th>\n",
       "      <th>3B</th>\n",
       "      <th>HR</th>\n",
       "      <th>BB</th>\n",
       "      <th>Singles</th>\n",
       "      <th>2xHits</th>\n",
       "      <th>3xHits</th>\n",
       "      <th>4xHits</th>\n",
       "    </tr>\n",
       "  </thead>\n",
       "  <tbody>\n",
       "    <tr>\n",
       "      <th>0</th>\n",
       "      <td>aardsda01</td>\n",
       "      <td>0</td>\n",
       "      <td>0</td>\n",
       "      <td>0</td>\n",
       "      <td>0</td>\n",
       "      <td>0</td>\n",
       "      <td>0</td>\n",
       "      <td>0</td>\n",
       "      <td>0</td>\n",
       "    </tr>\n",
       "    <tr>\n",
       "      <th>1</th>\n",
       "      <td>aaronha01</td>\n",
       "      <td>624</td>\n",
       "      <td>98</td>\n",
       "      <td>755</td>\n",
       "      <td>1402</td>\n",
       "      <td>2294</td>\n",
       "      <td>1248</td>\n",
       "      <td>294</td>\n",
       "      <td>3020</td>\n",
       "    </tr>\n",
       "    <tr>\n",
       "      <th>2</th>\n",
       "      <td>aaronto01</td>\n",
       "      <td>42</td>\n",
       "      <td>6</td>\n",
       "      <td>13</td>\n",
       "      <td>86</td>\n",
       "      <td>155</td>\n",
       "      <td>84</td>\n",
       "      <td>18</td>\n",
       "      <td>52</td>\n",
       "    </tr>\n",
       "    <tr>\n",
       "      <th>3</th>\n",
       "      <td>aasedo01</td>\n",
       "      <td>0</td>\n",
       "      <td>0</td>\n",
       "      <td>0</td>\n",
       "      <td>0</td>\n",
       "      <td>0</td>\n",
       "      <td>0</td>\n",
       "      <td>0</td>\n",
       "      <td>0</td>\n",
       "    </tr>\n",
       "    <tr>\n",
       "      <th>4</th>\n",
       "      <td>abadan01</td>\n",
       "      <td>0</td>\n",
       "      <td>0</td>\n",
       "      <td>0</td>\n",
       "      <td>4</td>\n",
       "      <td>2</td>\n",
       "      <td>0</td>\n",
       "      <td>0</td>\n",
       "      <td>0</td>\n",
       "    </tr>\n",
       "  </tbody>\n",
       "</table>\n",
       "</div>"
      ],
      "text/plain": [
       "    playerID   2B  3B   HR    BB  Singles  2xHits  3xHits  4xHits\n",
       "0  aardsda01    0   0    0     0        0       0       0       0\n",
       "1  aaronha01  624  98  755  1402     2294    1248     294    3020\n",
       "2  aaronto01   42   6   13    86      155      84      18      52\n",
       "3   aasedo01    0   0    0     0        0       0       0       0\n",
       "4   abadan01    0   0    0     4        2       0       0       0"
      ]
     },
     "execution_count": 31,
     "metadata": {},
     "output_type": "execute_result"
    }
   ],
   "source": [
    "hits_df.head()"
   ]
  },
  {
   "cell_type": "code",
   "execution_count": 32,
   "metadata": {
    "collapsed": false
   },
   "outputs": [],
   "source": [
    "del hits_df['2B']\n",
    "del hits_df['3B']\n",
    "del hits_df['HR']#delete the unnecessary cols"
   ]
  },
  {
   "cell_type": "code",
   "execution_count": 33,
   "metadata": {
    "collapsed": false
   },
   "outputs": [
    {
     "data": {
      "text/html": [
       "<div>\n",
       "<table border=\"1\" class=\"dataframe\">\n",
       "  <thead>\n",
       "    <tr style=\"text-align: right;\">\n",
       "      <th></th>\n",
       "      <th>playerID</th>\n",
       "      <th>BB</th>\n",
       "      <th>Singles</th>\n",
       "      <th>2xHits</th>\n",
       "      <th>3xHits</th>\n",
       "      <th>4xHits</th>\n",
       "    </tr>\n",
       "  </thead>\n",
       "  <tbody>\n",
       "    <tr>\n",
       "      <th>0</th>\n",
       "      <td>aardsda01</td>\n",
       "      <td>0</td>\n",
       "      <td>0</td>\n",
       "      <td>0</td>\n",
       "      <td>0</td>\n",
       "      <td>0</td>\n",
       "    </tr>\n",
       "    <tr>\n",
       "      <th>1</th>\n",
       "      <td>aaronha01</td>\n",
       "      <td>1402</td>\n",
       "      <td>2294</td>\n",
       "      <td>1248</td>\n",
       "      <td>294</td>\n",
       "      <td>3020</td>\n",
       "    </tr>\n",
       "    <tr>\n",
       "      <th>2</th>\n",
       "      <td>aaronto01</td>\n",
       "      <td>86</td>\n",
       "      <td>155</td>\n",
       "      <td>84</td>\n",
       "      <td>18</td>\n",
       "      <td>52</td>\n",
       "    </tr>\n",
       "    <tr>\n",
       "      <th>3</th>\n",
       "      <td>aasedo01</td>\n",
       "      <td>0</td>\n",
       "      <td>0</td>\n",
       "      <td>0</td>\n",
       "      <td>0</td>\n",
       "      <td>0</td>\n",
       "    </tr>\n",
       "    <tr>\n",
       "      <th>4</th>\n",
       "      <td>abadan01</td>\n",
       "      <td>4</td>\n",
       "      <td>2</td>\n",
       "      <td>0</td>\n",
       "      <td>0</td>\n",
       "      <td>0</td>\n",
       "    </tr>\n",
       "  </tbody>\n",
       "</table>\n",
       "</div>"
      ],
      "text/plain": [
       "    playerID    BB  Singles  2xHits  3xHits  4xHits\n",
       "0  aardsda01     0        0       0       0       0\n",
       "1  aaronha01  1402     2294    1248     294    3020\n",
       "2  aaronto01    86      155      84      18      52\n",
       "3   aasedo01     0        0       0       0       0\n",
       "4   abadan01     4        2       0       0       0"
      ]
     },
     "execution_count": 33,
     "metadata": {},
     "output_type": "execute_result"
    }
   ],
   "source": [
    "hits_df.head()"
   ]
  },
  {
   "cell_type": "code",
   "execution_count": 34,
   "metadata": {
    "collapsed": true
   },
   "outputs": [],
   "source": [
    "'''Next, we find the total number of bases a player acquired'''\n",
    "sum_on_base = hits_df.sum(axis=1)\n",
    "hits_df['TotalBases']=sum_on_base"
   ]
  },
  {
   "cell_type": "code",
   "execution_count": 35,
   "metadata": {
    "collapsed": false
   },
   "outputs": [
    {
     "data": {
      "text/html": [
       "<div>\n",
       "<table border=\"1\" class=\"dataframe\">\n",
       "  <thead>\n",
       "    <tr style=\"text-align: right;\">\n",
       "      <th></th>\n",
       "      <th>index</th>\n",
       "      <th>playerID</th>\n",
       "      <th>BB</th>\n",
       "      <th>Singles</th>\n",
       "      <th>2xHits</th>\n",
       "      <th>3xHits</th>\n",
       "      <th>4xHits</th>\n",
       "      <th>TotalBases</th>\n",
       "    </tr>\n",
       "  </thead>\n",
       "  <tbody>\n",
       "    <tr>\n",
       "      <th>0</th>\n",
       "      <td>0</td>\n",
       "      <td>aardsda01</td>\n",
       "      <td>0</td>\n",
       "      <td>0</td>\n",
       "      <td>0</td>\n",
       "      <td>0</td>\n",
       "      <td>0</td>\n",
       "      <td>0</td>\n",
       "    </tr>\n",
       "    <tr>\n",
       "      <th>1</th>\n",
       "      <td>1</td>\n",
       "      <td>aaronha01</td>\n",
       "      <td>1402</td>\n",
       "      <td>2294</td>\n",
       "      <td>1248</td>\n",
       "      <td>294</td>\n",
       "      <td>3020</td>\n",
       "      <td>8258</td>\n",
       "    </tr>\n",
       "  </tbody>\n",
       "</table>\n",
       "</div>"
      ],
      "text/plain": [
       "   index   playerID    BB  Singles  2xHits  3xHits  4xHits  TotalBases\n",
       "0      0  aardsda01     0        0       0       0       0           0\n",
       "1      1  aaronha01  1402     2294    1248     294    3020        8258"
      ]
     },
     "execution_count": 35,
     "metadata": {},
     "output_type": "execute_result"
    }
   ],
   "source": [
    "hits_df.reset_index().head(n=2)"
   ]
  },
  {
   "cell_type": "markdown",
   "metadata": {},
   "source": [
    "As in the last analysis, I have a strong suspicion that the data will be right skewed, because of the number of players with zero total bases, but let's look at the summary:"
   ]
  },
  {
   "cell_type": "code",
   "execution_count": 36,
   "metadata": {
    "collapsed": false
   },
   "outputs": [
    {
     "data": {
      "text/plain": [
       "count    18915.000000\n",
       "mean       367.037113\n",
       "std        851.991220\n",
       "min          0.000000\n",
       "25%          1.000000\n",
       "50%         20.000000\n",
       "75%        224.000000\n",
       "max       8534.000000\n",
       "Name: TotalBases, dtype: float64"
      ]
     },
     "execution_count": 36,
     "metadata": {},
     "output_type": "execute_result"
    }
   ],
   "source": [
    "hits_df['TotalBases'].describe()"
   ]
  },
  {
   "cell_type": "code",
   "execution_count": 37,
   "metadata": {
    "collapsed": false
   },
   "outputs": [
    {
     "data": {
      "text/plain": [
       "<matplotlib.axes._subplots.AxesSubplot at 0xd052fd0>"
      ]
     },
     "execution_count": 37,
     "metadata": {},
     "output_type": "execute_result"
    },
    {
     "data": {
      "image/png": "[encoded data removed]",
      "text/plain": [
       "<matplotlib.figure.Figure at 0xcf8ab00>"
      ]
     },
     "metadata": {},
     "output_type": "display_data"
    }
   ],
   "source": [
    "%matplotlib inline\n",
    "sns.distplot(hits_df.TotalBases, bins = 10)"
   ]
  },
  {
   "cell_type": "markdown",
   "metadata": {},
   "source": [
    "Again, we'll remove player if their number of total bases is 0. This will remove a number of players, but most likely won't change the shape since there still seem to be a lot in the 0 to 1000 range. "
   ]
  },
  {
   "cell_type": "code",
   "execution_count": 38,
   "metadata": {
    "collapsed": false
   },
   "outputs": [],
   "source": [
    "all_nonzero_hits_df = hits_df[hits_df.TotalBases !=0]"
   ]
  },
  {
   "cell_type": "code",
   "execution_count": 39,
   "metadata": {
    "collapsed": false
   },
   "outputs": [
    {
     "data": {
      "text/plain": [
       "count    14933.000000\n",
       "mean       464.910400\n",
       "std        934.858585\n",
       "min          1.000000\n",
       "25%          8.000000\n",
       "50%         55.000000\n",
       "75%        402.000000\n",
       "max       8534.000000\n",
       "Name: TotalBases, dtype: float64"
      ]
     },
     "execution_count": 39,
     "metadata": {},
     "output_type": "execute_result"
    }
   ],
   "source": [
    "all_nonzero_hits_df['TotalBases'].describe()"
   ]
  },
  {
   "cell_type": "markdown",
   "metadata": {},
   "source": [
    "Quite a few data points were removed, but not enough to make the distribution look much different:\n"
   ]
  },
  {
   "cell_type": "code",
   "execution_count": 43,
   "metadata": {
    "collapsed": false
   },
   "outputs": [
    {
     "data": {
      "text/plain": [
       "<matplotlib.axes._subplots.AxesSubplot at 0xd2239e8>"
      ]
     },
     "execution_count": 43,
     "metadata": {},
     "output_type": "execute_result"
    },
    {
     "data": {
      "image/png": "[encoded data removed]",
      "text/plain": [
       "<matplotlib.figure.Figure at 0xd341ac8>"
      ]
     },
     "metadata": {},
     "output_type": "display_data"
    }
   ],
   "source": [
    "%matplotlib inline\n",
    "sns.distplot(all_nonzero_hits_df.TotalBases, bins = 10)"
   ]
  },
  {
   "cell_type": "markdown",
   "metadata": {},
   "source": [
    "Now we're ready to look at the relationship between At Bats and Total Bases. Merging two dataframes gives us:"
   ]
  },
  {
   "cell_type": "code",
   "execution_count": 44,
   "metadata": {
    "collapsed": false
   },
   "outputs": [],
   "source": [
    "all_nonzero_hits_with_at_bats=all_nonzero_hits_df.merge(at_bat, on = 'playerID', how = 'inner')"
   ]
  },
  {
   "cell_type": "code",
   "execution_count": 45,
   "metadata": {
    "collapsed": false
   },
   "outputs": [
    {
     "data": {
      "text/html": [
       "<div>\n",
       "<table border=\"1\" class=\"dataframe\">\n",
       "  <thead>\n",
       "    <tr style=\"text-align: right;\">\n",
       "      <th></th>\n",
       "      <th>playerID</th>\n",
       "      <th>BB</th>\n",
       "      <th>Singles</th>\n",
       "      <th>2xHits</th>\n",
       "      <th>3xHits</th>\n",
       "      <th>4xHits</th>\n",
       "      <th>TotalBases</th>\n",
       "      <th>AB</th>\n",
       "    </tr>\n",
       "  </thead>\n",
       "  <tbody>\n",
       "    <tr>\n",
       "      <th>0</th>\n",
       "      <td>aaronha01</td>\n",
       "      <td>1402</td>\n",
       "      <td>2294</td>\n",
       "      <td>1248</td>\n",
       "      <td>294</td>\n",
       "      <td>3020</td>\n",
       "      <td>8258</td>\n",
       "      <td>12364</td>\n",
       "    </tr>\n",
       "    <tr>\n",
       "      <th>1</th>\n",
       "      <td>aaronto01</td>\n",
       "      <td>86</td>\n",
       "      <td>155</td>\n",
       "      <td>84</td>\n",
       "      <td>18</td>\n",
       "      <td>52</td>\n",
       "      <td>395</td>\n",
       "      <td>944</td>\n",
       "    </tr>\n",
       "    <tr>\n",
       "      <th>2</th>\n",
       "      <td>abadan01</td>\n",
       "      <td>4</td>\n",
       "      <td>2</td>\n",
       "      <td>0</td>\n",
       "      <td>0</td>\n",
       "      <td>0</td>\n",
       "      <td>6</td>\n",
       "      <td>21</td>\n",
       "    </tr>\n",
       "    <tr>\n",
       "      <th>3</th>\n",
       "      <td>abadfe01</td>\n",
       "      <td>0</td>\n",
       "      <td>1</td>\n",
       "      <td>0</td>\n",
       "      <td>0</td>\n",
       "      <td>0</td>\n",
       "      <td>1</td>\n",
       "      <td>9</td>\n",
       "    </tr>\n",
       "    <tr>\n",
       "      <th>4</th>\n",
       "      <td>abadijo01</td>\n",
       "      <td>0</td>\n",
       "      <td>11</td>\n",
       "      <td>0</td>\n",
       "      <td>0</td>\n",
       "      <td>0</td>\n",
       "      <td>11</td>\n",
       "      <td>49</td>\n",
       "    </tr>\n",
       "  </tbody>\n",
       "</table>\n",
       "</div>"
      ],
      "text/plain": [
       "    playerID    BB  Singles  2xHits  3xHits  4xHits  TotalBases     AB\n",
       "0  aaronha01  1402     2294    1248     294    3020        8258  12364\n",
       "1  aaronto01    86      155      84      18      52         395    944\n",
       "2   abadan01     4        2       0       0       0           6     21\n",
       "3   abadfe01     0        1       0       0       0           1      9\n",
       "4  abadijo01     0       11       0       0       0          11     49"
      ]
     },
     "execution_count": 45,
     "metadata": {},
     "output_type": "execute_result"
    }
   ],
   "source": [
    "all_nonzero_hits_with_at_bats.head()"
   ]
  },
  {
   "cell_type": "code",
   "execution_count": 46,
   "metadata": {
    "collapsed": false
   },
   "outputs": [
    {
     "data": {
      "text/html": [
       "<div>\n",
       "<table border=\"1\" class=\"dataframe\">\n",
       "  <thead>\n",
       "    <tr style=\"text-align: right;\">\n",
       "      <th></th>\n",
       "      <th>TotalBases</th>\n",
       "      <th>AB</th>\n",
       "    </tr>\n",
       "  </thead>\n",
       "  <tbody>\n",
       "    <tr>\n",
       "      <th>0</th>\n",
       "      <td>8258</td>\n",
       "      <td>12364</td>\n",
       "    </tr>\n",
       "    <tr>\n",
       "      <th>1</th>\n",
       "      <td>395</td>\n",
       "      <td>944</td>\n",
       "    </tr>\n",
       "    <tr>\n",
       "      <th>2</th>\n",
       "      <td>6</td>\n",
       "      <td>21</td>\n",
       "    </tr>\n",
       "    <tr>\n",
       "      <th>3</th>\n",
       "      <td>1</td>\n",
       "      <td>9</td>\n",
       "    </tr>\n",
       "    <tr>\n",
       "      <th>4</th>\n",
       "      <td>11</td>\n",
       "      <td>49</td>\n",
       "    </tr>\n",
       "  </tbody>\n",
       "</table>\n",
       "</div>"
      ],
      "text/plain": [
       "   TotalBases     AB\n",
       "0        8258  12364\n",
       "1         395    944\n",
       "2           6     21\n",
       "3           1      9\n",
       "4          11     49"
      ]
     },
     "execution_count": 46,
     "metadata": {},
     "output_type": "execute_result"
    }
   ],
   "source": [
    "anhwab = all_nonzero_hits_with_at_bats[['TotalBases','AB']]\n",
    "anhwab.head()"
   ]
  },
  {
   "cell_type": "code",
   "execution_count": 47,
   "metadata": {
    "collapsed": false
   },
   "outputs": [
    {
     "name": "stdout",
     "output_type": "stream",
     "text": [
      "Populating the interactive namespace from numpy and matplotlib\n"
     ]
    },
    {
     "data": {
      "text/html": [
       "<div>\n",
       "<table border=\"1\" class=\"dataframe\">\n",
       "  <thead>\n",
       "    <tr style=\"text-align: right;\">\n",
       "      <th></th>\n",
       "      <th>TotalBases</th>\n",
       "      <th>AB</th>\n",
       "    </tr>\n",
       "  </thead>\n",
       "  <tbody>\n",
       "    <tr>\n",
       "      <th>TotalBases</th>\n",
       "      <td>1.000000</td>\n",
       "      <td>0.982975</td>\n",
       "    </tr>\n",
       "    <tr>\n",
       "      <th>AB</th>\n",
       "      <td>0.982975</td>\n",
       "      <td>1.000000</td>\n",
       "    </tr>\n",
       "  </tbody>\n",
       "</table>\n",
       "</div>"
      ],
      "text/plain": [
       "            TotalBases        AB\n",
       "TotalBases    1.000000  0.982975\n",
       "AB            0.982975  1.000000"
      ]
     },
     "execution_count": 47,
     "metadata": {},
     "output_type": "execute_result"
    },
    {
     "data": {
      "image/png": "[encoded data removed]",
      "text/plain": [
       "<matplotlib.figure.Figure at 0xe7594a8>"
      ]
     },
     "metadata": {},
     "output_type": "display_data"
    }
   ],
   "source": [
    "%pylab inline\n",
    "sns.lmplot('AB','TotalBases', data = anhwab, fit_reg = True)\n",
    "anhwab.corr(method = 'pearson', min_periods = 1)#calculating the correlation"
   ]
  },
  {
   "cell_type": "markdown",
   "metadata": {},
   "source": [
    "The trend seems fairly linear here but, as expected by common sense, the data points get more diffuse(further away from the trend line), as there are more at bats. For the players who have the higher number of at bats, it is also interesting to note that some exceed the expectations and get much more bases out of their at bats. But remember, this is total bases, so the players who are \"power sluggers\" will have a lot more bases because of the calculation, and possibly because they get walked a lot because of their reputation. This is in no ways a definitive result, and I wouldn't use this scatterplot to make a prediction nor would I imply number of at bats causes there to be more base acquisition."
   ]
  },
  {
   "cell_type": "code",
   "execution_count": 48,
   "metadata": {
    "collapsed": false
   },
   "outputs": [
    {
     "data": {
      "text/plain": [
       "1542     8534\n",
       "1        8258\n",
       "14865    7855\n",
       "12205    7733\n",
       "10857    7530\n",
       "18728    7384\n",
       "14719    7318\n",
       "14528    7151\n",
       "3155     7103\n",
       "18370    6905\n",
       "Name: TotalBases, dtype: int64"
      ]
     },
     "execution_count": 48,
     "metadata": {},
     "output_type": "execute_result"
    }
   ],
   "source": [
    "top_ten=column_sort(all_nonzero_hits_df['TotalBases'])\n",
    "top_ten"
   ]
  },
  {
   "cell_type": "code",
   "execution_count": 49,
   "metadata": {
    "collapsed": false
   },
   "outputs": [
    {
     "data": {
      "text/html": [
       "<div>\n",
       "<table border=\"1\" class=\"dataframe\">\n",
       "  <thead>\n",
       "    <tr style=\"text-align: right;\">\n",
       "      <th></th>\n",
       "      <th>TotalBases</th>\n",
       "    </tr>\n",
       "  </thead>\n",
       "  <tbody>\n",
       "    <tr>\n",
       "      <th>1542</th>\n",
       "      <td>8534</td>\n",
       "    </tr>\n",
       "    <tr>\n",
       "      <th>1</th>\n",
       "      <td>8258</td>\n",
       "    </tr>\n",
       "    <tr>\n",
       "      <th>14865</th>\n",
       "      <td>7855</td>\n",
       "    </tr>\n",
       "    <tr>\n",
       "      <th>12205</th>\n",
       "      <td>7733</td>\n",
       "    </tr>\n",
       "    <tr>\n",
       "      <th>10857</th>\n",
       "      <td>7530</td>\n",
       "    </tr>\n",
       "    <tr>\n",
       "      <th>18728</th>\n",
       "      <td>7384</td>\n",
       "    </tr>\n",
       "    <tr>\n",
       "      <th>14719</th>\n",
       "      <td>7318</td>\n",
       "    </tr>\n",
       "    <tr>\n",
       "      <th>14528</th>\n",
       "      <td>7151</td>\n",
       "    </tr>\n",
       "    <tr>\n",
       "      <th>3155</th>\n",
       "      <td>7103</td>\n",
       "    </tr>\n",
       "    <tr>\n",
       "      <th>18370</th>\n",
       "      <td>6905</td>\n",
       "    </tr>\n",
       "  </tbody>\n",
       "</table>\n",
       "</div>"
      ],
      "text/plain": [
       "       TotalBases\n",
       "1542         8534\n",
       "1            8258\n",
       "14865        7855\n",
       "12205        7733\n",
       "10857        7530\n",
       "18728        7384\n",
       "14719        7318\n",
       "14528        7151\n",
       "3155         7103\n",
       "18370        6905"
      ]
     },
     "execution_count": 49,
     "metadata": {},
     "output_type": "execute_result"
    }
   ],
   "source": [
    "top_ten_df=pd.DataFrame(top_ten)#makethis into a dataframe so I can merge with no_nonzero_hits_df\n",
    "top_ten_df"
   ]
  },
  {
   "cell_type": "code",
   "execution_count": 53,
   "metadata": {
    "collapsed": false
   },
   "outputs": [
    {
     "data": {
      "text/html": [
       "<div>\n",
       "<table border=\"1\" class=\"dataframe\">\n",
       "  <thead>\n",
       "    <tr style=\"text-align: right;\">\n",
       "      <th></th>\n",
       "      <th>TotalBases</th>\n",
       "      <th>playerID</th>\n",
       "      <th>BB</th>\n",
       "      <th>Singles</th>\n",
       "      <th>2xHits</th>\n",
       "      <th>3xHits</th>\n",
       "      <th>4xHits</th>\n",
       "    </tr>\n",
       "  </thead>\n",
       "  <tbody>\n",
       "    <tr>\n",
       "      <th>0</th>\n",
       "      <td>8534</td>\n",
       "      <td>bondsba01</td>\n",
       "      <td>2558</td>\n",
       "      <td>1495</td>\n",
       "      <td>1202</td>\n",
       "      <td>231</td>\n",
       "      <td>3048</td>\n",
       "    </tr>\n",
       "    <tr>\n",
       "      <th>1</th>\n",
       "      <td>8258</td>\n",
       "      <td>aaronha01</td>\n",
       "      <td>1402</td>\n",
       "      <td>2294</td>\n",
       "      <td>1248</td>\n",
       "      <td>294</td>\n",
       "      <td>3020</td>\n",
       "    </tr>\n",
       "    <tr>\n",
       "      <th>2</th>\n",
       "      <td>7855</td>\n",
       "      <td>ruthba01</td>\n",
       "      <td>2062</td>\n",
       "      <td>1517</td>\n",
       "      <td>1012</td>\n",
       "      <td>408</td>\n",
       "      <td>2856</td>\n",
       "    </tr>\n",
       "    <tr>\n",
       "      <th>3</th>\n",
       "      <td>7733</td>\n",
       "      <td>musiast01</td>\n",
       "      <td>1599</td>\n",
       "      <td>2253</td>\n",
       "      <td>1450</td>\n",
       "      <td>531</td>\n",
       "      <td>1900</td>\n",
       "    </tr>\n",
       "    <tr>\n",
       "      <th>4</th>\n",
       "      <td>7530</td>\n",
       "      <td>mayswi01</td>\n",
       "      <td>1464</td>\n",
       "      <td>1960</td>\n",
       "      <td>1046</td>\n",
       "      <td>420</td>\n",
       "      <td>2640</td>\n",
       "    </tr>\n",
       "    <tr>\n",
       "      <th>5</th>\n",
       "      <td>7384</td>\n",
       "      <td>yastrca01</td>\n",
       "      <td>1845</td>\n",
       "      <td>2262</td>\n",
       "      <td>1292</td>\n",
       "      <td>177</td>\n",
       "      <td>1808</td>\n",
       "    </tr>\n",
       "    <tr>\n",
       "      <th>6</th>\n",
       "      <td>7318</td>\n",
       "      <td>rosepe01</td>\n",
       "      <td>1566</td>\n",
       "      <td>3215</td>\n",
       "      <td>1492</td>\n",
       "      <td>405</td>\n",
       "      <td>640</td>\n",
       "    </tr>\n",
       "    <tr>\n",
       "      <th>7</th>\n",
       "      <td>7151</td>\n",
       "      <td>rodrial01</td>\n",
       "      <td>1338</td>\n",
       "      <td>1840</td>\n",
       "      <td>1096</td>\n",
       "      <td>93</td>\n",
       "      <td>2784</td>\n",
       "    </tr>\n",
       "    <tr>\n",
       "      <th>8</th>\n",
       "      <td>7103</td>\n",
       "      <td>cobbty01</td>\n",
       "      <td>1249</td>\n",
       "      <td>3053</td>\n",
       "      <td>1448</td>\n",
       "      <td>885</td>\n",
       "      <td>468</td>\n",
       "    </tr>\n",
       "    <tr>\n",
       "      <th>9</th>\n",
       "      <td>6905</td>\n",
       "      <td>willite01</td>\n",
       "      <td>2021</td>\n",
       "      <td>1537</td>\n",
       "      <td>1050</td>\n",
       "      <td>213</td>\n",
       "      <td>2084</td>\n",
       "    </tr>\n",
       "  </tbody>\n",
       "</table>\n",
       "</div>"
      ],
      "text/plain": [
       "   TotalBases   playerID    BB  Singles  2xHits  3xHits  4xHits\n",
       "0        8534  bondsba01  2558     1495    1202     231    3048\n",
       "1        8258  aaronha01  1402     2294    1248     294    3020\n",
       "2        7855   ruthba01  2062     1517    1012     408    2856\n",
       "3        7733  musiast01  1599     2253    1450     531    1900\n",
       "4        7530   mayswi01  1464     1960    1046     420    2640\n",
       "5        7384  yastrca01  1845     2262    1292     177    1808\n",
       "6        7318   rosepe01  1566     3215    1492     405     640\n",
       "7        7151  rodrial01  1338     1840    1096      93    2784\n",
       "8        7103   cobbty01  1249     3053    1448     885     468\n",
       "9        6905  willite01  2021     1537    1050     213    2084"
      ]
     },
     "execution_count": 53,
     "metadata": {},
     "output_type": "execute_result"
    }
   ],
   "source": [
    "final_df=top_ten_df.merge(all_nonzero_hits_df, on = ['TotalBases'], how = 'inner')\n",
    "final_df"
   ]
  },
  {
   "cell_type": "code",
   "execution_count": 54,
   "metadata": {
    "collapsed": false
   },
   "outputs": [
    {
     "data": {
      "text/html": [
       "<div>\n",
       "<table border=\"1\" class=\"dataframe\">\n",
       "  <thead>\n",
       "    <tr style=\"text-align: right;\">\n",
       "      <th></th>\n",
       "      <th>playerID</th>\n",
       "      <th>BB</th>\n",
       "      <th>Singles</th>\n",
       "      <th>2xHits</th>\n",
       "      <th>3xHits</th>\n",
       "      <th>4xHits</th>\n",
       "      <th>TotalBases</th>\n",
       "    </tr>\n",
       "  </thead>\n",
       "  <tbody>\n",
       "    <tr>\n",
       "      <th>0</th>\n",
       "      <td>bondsba01</td>\n",
       "      <td>2558</td>\n",
       "      <td>1495</td>\n",
       "      <td>1202</td>\n",
       "      <td>231</td>\n",
       "      <td>3048</td>\n",
       "      <td>8534</td>\n",
       "    </tr>\n",
       "    <tr>\n",
       "      <th>1</th>\n",
       "      <td>aaronha01</td>\n",
       "      <td>1402</td>\n",
       "      <td>2294</td>\n",
       "      <td>1248</td>\n",
       "      <td>294</td>\n",
       "      <td>3020</td>\n",
       "      <td>8258</td>\n",
       "    </tr>\n",
       "    <tr>\n",
       "      <th>2</th>\n",
       "      <td>ruthba01</td>\n",
       "      <td>2062</td>\n",
       "      <td>1517</td>\n",
       "      <td>1012</td>\n",
       "      <td>408</td>\n",
       "      <td>2856</td>\n",
       "      <td>7855</td>\n",
       "    </tr>\n",
       "    <tr>\n",
       "      <th>3</th>\n",
       "      <td>musiast01</td>\n",
       "      <td>1599</td>\n",
       "      <td>2253</td>\n",
       "      <td>1450</td>\n",
       "      <td>531</td>\n",
       "      <td>1900</td>\n",
       "      <td>7733</td>\n",
       "    </tr>\n",
       "    <tr>\n",
       "      <th>4</th>\n",
       "      <td>mayswi01</td>\n",
       "      <td>1464</td>\n",
       "      <td>1960</td>\n",
       "      <td>1046</td>\n",
       "      <td>420</td>\n",
       "      <td>2640</td>\n",
       "      <td>7530</td>\n",
       "    </tr>\n",
       "    <tr>\n",
       "      <th>5</th>\n",
       "      <td>yastrca01</td>\n",
       "      <td>1845</td>\n",
       "      <td>2262</td>\n",
       "      <td>1292</td>\n",
       "      <td>177</td>\n",
       "      <td>1808</td>\n",
       "      <td>7384</td>\n",
       "    </tr>\n",
       "    <tr>\n",
       "      <th>6</th>\n",
       "      <td>rosepe01</td>\n",
       "      <td>1566</td>\n",
       "      <td>3215</td>\n",
       "      <td>1492</td>\n",
       "      <td>405</td>\n",
       "      <td>640</td>\n",
       "      <td>7318</td>\n",
       "    </tr>\n",
       "    <tr>\n",
       "      <th>7</th>\n",
       "      <td>rodrial01</td>\n",
       "      <td>1338</td>\n",
       "      <td>1840</td>\n",
       "      <td>1096</td>\n",
       "      <td>93</td>\n",
       "      <td>2784</td>\n",
       "      <td>7151</td>\n",
       "    </tr>\n",
       "    <tr>\n",
       "      <th>8</th>\n",
       "      <td>cobbty01</td>\n",
       "      <td>1249</td>\n",
       "      <td>3053</td>\n",
       "      <td>1448</td>\n",
       "      <td>885</td>\n",
       "      <td>468</td>\n",
       "      <td>7103</td>\n",
       "    </tr>\n",
       "    <tr>\n",
       "      <th>9</th>\n",
       "      <td>willite01</td>\n",
       "      <td>2021</td>\n",
       "      <td>1537</td>\n",
       "      <td>1050</td>\n",
       "      <td>213</td>\n",
       "      <td>2084</td>\n",
       "      <td>6905</td>\n",
       "    </tr>\n",
       "  </tbody>\n",
       "</table>\n",
       "</div>"
      ],
      "text/plain": [
       "    playerID    BB  Singles  2xHits  3xHits  4xHits  TotalBases\n",
       "0  bondsba01  2558     1495    1202     231    3048        8534\n",
       "1  aaronha01  1402     2294    1248     294    3020        8258\n",
       "2   ruthba01  2062     1517    1012     408    2856        7855\n",
       "3  musiast01  1599     2253    1450     531    1900        7733\n",
       "4   mayswi01  1464     1960    1046     420    2640        7530\n",
       "5  yastrca01  1845     2262    1292     177    1808        7384\n",
       "6   rosepe01  1566     3215    1492     405     640        7318\n",
       "7  rodrial01  1338     1840    1096      93    2784        7151\n",
       "8   cobbty01  1249     3053    1448     885     468        7103\n",
       "9  willite01  2021     1537    1050     213    2084        6905"
      ]
     },
     "execution_count": 54,
     "metadata": {},
     "output_type": "execute_result"
    }
   ],
   "source": [
    "# a little more re-organizing:\n",
    "final_df=final_df[['playerID','BB','Singles','2xHits','3xHits','4xHits','TotalBases']]\n",
    "final_df"
   ]
  },
  {
   "cell_type": "code",
   "execution_count": 55,
   "metadata": {
    "collapsed": true
   },
   "outputs": [],
   "source": [
    "bases_vs_AB =final_df.merge(at_bat, on= 'playerID', how = 'inner')#merging with At Bat to conduct further analysis"
   ]
  },
  {
   "cell_type": "code",
   "execution_count": 56,
   "metadata": {
    "collapsed": false
   },
   "outputs": [
    {
     "data": {
      "text/html": [
       "<div>\n",
       "<table border=\"1\" class=\"dataframe\">\n",
       "  <thead>\n",
       "    <tr style=\"text-align: right;\">\n",
       "      <th></th>\n",
       "      <th>playerID</th>\n",
       "      <th>BB</th>\n",
       "      <th>Singles</th>\n",
       "      <th>2xHits</th>\n",
       "      <th>3xHits</th>\n",
       "      <th>4xHits</th>\n",
       "      <th>TotalBases</th>\n",
       "      <th>AB</th>\n",
       "    </tr>\n",
       "  </thead>\n",
       "  <tbody>\n",
       "    <tr>\n",
       "      <th>0</th>\n",
       "      <td>bondsba01</td>\n",
       "      <td>2558</td>\n",
       "      <td>1495</td>\n",
       "      <td>1202</td>\n",
       "      <td>231</td>\n",
       "      <td>3048</td>\n",
       "      <td>8534</td>\n",
       "      <td>9847</td>\n",
       "    </tr>\n",
       "    <tr>\n",
       "      <th>1</th>\n",
       "      <td>aaronha01</td>\n",
       "      <td>1402</td>\n",
       "      <td>2294</td>\n",
       "      <td>1248</td>\n",
       "      <td>294</td>\n",
       "      <td>3020</td>\n",
       "      <td>8258</td>\n",
       "      <td>12364</td>\n",
       "    </tr>\n",
       "    <tr>\n",
       "      <th>2</th>\n",
       "      <td>ruthba01</td>\n",
       "      <td>2062</td>\n",
       "      <td>1517</td>\n",
       "      <td>1012</td>\n",
       "      <td>408</td>\n",
       "      <td>2856</td>\n",
       "      <td>7855</td>\n",
       "      <td>8398</td>\n",
       "    </tr>\n",
       "    <tr>\n",
       "      <th>3</th>\n",
       "      <td>musiast01</td>\n",
       "      <td>1599</td>\n",
       "      <td>2253</td>\n",
       "      <td>1450</td>\n",
       "      <td>531</td>\n",
       "      <td>1900</td>\n",
       "      <td>7733</td>\n",
       "      <td>10972</td>\n",
       "    </tr>\n",
       "    <tr>\n",
       "      <th>4</th>\n",
       "      <td>mayswi01</td>\n",
       "      <td>1464</td>\n",
       "      <td>1960</td>\n",
       "      <td>1046</td>\n",
       "      <td>420</td>\n",
       "      <td>2640</td>\n",
       "      <td>7530</td>\n",
       "      <td>10881</td>\n",
       "    </tr>\n",
       "    <tr>\n",
       "      <th>5</th>\n",
       "      <td>yastrca01</td>\n",
       "      <td>1845</td>\n",
       "      <td>2262</td>\n",
       "      <td>1292</td>\n",
       "      <td>177</td>\n",
       "      <td>1808</td>\n",
       "      <td>7384</td>\n",
       "      <td>11988</td>\n",
       "    </tr>\n",
       "    <tr>\n",
       "      <th>6</th>\n",
       "      <td>rosepe01</td>\n",
       "      <td>1566</td>\n",
       "      <td>3215</td>\n",
       "      <td>1492</td>\n",
       "      <td>405</td>\n",
       "      <td>640</td>\n",
       "      <td>7318</td>\n",
       "      <td>14053</td>\n",
       "    </tr>\n",
       "    <tr>\n",
       "      <th>7</th>\n",
       "      <td>rodrial01</td>\n",
       "      <td>1338</td>\n",
       "      <td>1840</td>\n",
       "      <td>1096</td>\n",
       "      <td>93</td>\n",
       "      <td>2784</td>\n",
       "      <td>7151</td>\n",
       "      <td>10566</td>\n",
       "    </tr>\n",
       "    <tr>\n",
       "      <th>8</th>\n",
       "      <td>cobbty01</td>\n",
       "      <td>1249</td>\n",
       "      <td>3053</td>\n",
       "      <td>1448</td>\n",
       "      <td>885</td>\n",
       "      <td>468</td>\n",
       "      <td>7103</td>\n",
       "      <td>11434</td>\n",
       "    </tr>\n",
       "    <tr>\n",
       "      <th>9</th>\n",
       "      <td>willite01</td>\n",
       "      <td>2021</td>\n",
       "      <td>1537</td>\n",
       "      <td>1050</td>\n",
       "      <td>213</td>\n",
       "      <td>2084</td>\n",
       "      <td>6905</td>\n",
       "      <td>7706</td>\n",
       "    </tr>\n",
       "  </tbody>\n",
       "</table>\n",
       "</div>"
      ],
      "text/plain": [
       "    playerID    BB  Singles  2xHits  3xHits  4xHits  TotalBases     AB\n",
       "0  bondsba01  2558     1495    1202     231    3048        8534   9847\n",
       "1  aaronha01  1402     2294    1248     294    3020        8258  12364\n",
       "2   ruthba01  2062     1517    1012     408    2856        7855   8398\n",
       "3  musiast01  1599     2253    1450     531    1900        7733  10972\n",
       "4   mayswi01  1464     1960    1046     420    2640        7530  10881\n",
       "5  yastrca01  1845     2262    1292     177    1808        7384  11988\n",
       "6   rosepe01  1566     3215    1492     405     640        7318  14053\n",
       "7  rodrial01  1338     1840    1096      93    2784        7151  10566\n",
       "8   cobbty01  1249     3053    1448     885     468        7103  11434\n",
       "9  willite01  2021     1537    1050     213    2084        6905   7706"
      ]
     },
     "execution_count": 56,
     "metadata": {},
     "output_type": "execute_result"
    }
   ],
   "source": [
    "bases_vs_AB"
   ]
  },
  {
   "cell_type": "markdown",
   "metadata": {},
   "source": [
    "I'm again interested in a ratio, or a percent. The percent I'd like to be able to see is number of bases per at bat. In other words, we could find an expected base percentage for each player in the top ten."
   ]
  },
  {
   "cell_type": "code",
   "execution_count": 57,
   "metadata": {
    "collapsed": false
   },
   "outputs": [
    {
     "data": {
      "text/html": [
       "<div>\n",
       "<table border=\"1\" class=\"dataframe\">\n",
       "  <thead>\n",
       "    <tr style=\"text-align: right;\">\n",
       "      <th></th>\n",
       "      <th>playerID</th>\n",
       "      <th>BB</th>\n",
       "      <th>Singles</th>\n",
       "      <th>2xHits</th>\n",
       "      <th>3xHits</th>\n",
       "      <th>4xHits</th>\n",
       "      <th>TotalBases</th>\n",
       "      <th>AB</th>\n",
       "      <th>BasesPerBat</th>\n",
       "    </tr>\n",
       "  </thead>\n",
       "  <tbody>\n",
       "    <tr>\n",
       "      <th>0</th>\n",
       "      <td>bondsba01</td>\n",
       "      <td>2558</td>\n",
       "      <td>1495</td>\n",
       "      <td>1202</td>\n",
       "      <td>231</td>\n",
       "      <td>3048</td>\n",
       "      <td>8534</td>\n",
       "      <td>9847</td>\n",
       "      <td>0.866660</td>\n",
       "    </tr>\n",
       "    <tr>\n",
       "      <th>1</th>\n",
       "      <td>aaronha01</td>\n",
       "      <td>1402</td>\n",
       "      <td>2294</td>\n",
       "      <td>1248</td>\n",
       "      <td>294</td>\n",
       "      <td>3020</td>\n",
       "      <td>8258</td>\n",
       "      <td>12364</td>\n",
       "      <td>0.667907</td>\n",
       "    </tr>\n",
       "    <tr>\n",
       "      <th>2</th>\n",
       "      <td>ruthba01</td>\n",
       "      <td>2062</td>\n",
       "      <td>1517</td>\n",
       "      <td>1012</td>\n",
       "      <td>408</td>\n",
       "      <td>2856</td>\n",
       "      <td>7855</td>\n",
       "      <td>8398</td>\n",
       "      <td>0.935342</td>\n",
       "    </tr>\n",
       "    <tr>\n",
       "      <th>3</th>\n",
       "      <td>musiast01</td>\n",
       "      <td>1599</td>\n",
       "      <td>2253</td>\n",
       "      <td>1450</td>\n",
       "      <td>531</td>\n",
       "      <td>1900</td>\n",
       "      <td>7733</td>\n",
       "      <td>10972</td>\n",
       "      <td>0.704794</td>\n",
       "    </tr>\n",
       "    <tr>\n",
       "      <th>4</th>\n",
       "      <td>mayswi01</td>\n",
       "      <td>1464</td>\n",
       "      <td>1960</td>\n",
       "      <td>1046</td>\n",
       "      <td>420</td>\n",
       "      <td>2640</td>\n",
       "      <td>7530</td>\n",
       "      <td>10881</td>\n",
       "      <td>0.692032</td>\n",
       "    </tr>\n",
       "    <tr>\n",
       "      <th>5</th>\n",
       "      <td>yastrca01</td>\n",
       "      <td>1845</td>\n",
       "      <td>2262</td>\n",
       "      <td>1292</td>\n",
       "      <td>177</td>\n",
       "      <td>1808</td>\n",
       "      <td>7384</td>\n",
       "      <td>11988</td>\n",
       "      <td>0.615949</td>\n",
       "    </tr>\n",
       "    <tr>\n",
       "      <th>6</th>\n",
       "      <td>rosepe01</td>\n",
       "      <td>1566</td>\n",
       "      <td>3215</td>\n",
       "      <td>1492</td>\n",
       "      <td>405</td>\n",
       "      <td>640</td>\n",
       "      <td>7318</td>\n",
       "      <td>14053</td>\n",
       "      <td>0.520743</td>\n",
       "    </tr>\n",
       "    <tr>\n",
       "      <th>7</th>\n",
       "      <td>rodrial01</td>\n",
       "      <td>1338</td>\n",
       "      <td>1840</td>\n",
       "      <td>1096</td>\n",
       "      <td>93</td>\n",
       "      <td>2784</td>\n",
       "      <td>7151</td>\n",
       "      <td>10566</td>\n",
       "      <td>0.676793</td>\n",
       "    </tr>\n",
       "    <tr>\n",
       "      <th>8</th>\n",
       "      <td>cobbty01</td>\n",
       "      <td>1249</td>\n",
       "      <td>3053</td>\n",
       "      <td>1448</td>\n",
       "      <td>885</td>\n",
       "      <td>468</td>\n",
       "      <td>7103</td>\n",
       "      <td>11434</td>\n",
       "      <td>0.621217</td>\n",
       "    </tr>\n",
       "    <tr>\n",
       "      <th>9</th>\n",
       "      <td>willite01</td>\n",
       "      <td>2021</td>\n",
       "      <td>1537</td>\n",
       "      <td>1050</td>\n",
       "      <td>213</td>\n",
       "      <td>2084</td>\n",
       "      <td>6905</td>\n",
       "      <td>7706</td>\n",
       "      <td>0.896055</td>\n",
       "    </tr>\n",
       "  </tbody>\n",
       "</table>\n",
       "</div>"
      ],
      "text/plain": [
       "    playerID    BB  Singles  2xHits  3xHits  4xHits  TotalBases     AB  \\\n",
       "0  bondsba01  2558     1495    1202     231    3048        8534   9847   \n",
       "1  aaronha01  1402     2294    1248     294    3020        8258  12364   \n",
       "2   ruthba01  2062     1517    1012     408    2856        7855   8398   \n",
       "3  musiast01  1599     2253    1450     531    1900        7733  10972   \n",
       "4   mayswi01  1464     1960    1046     420    2640        7530  10881   \n",
       "5  yastrca01  1845     2262    1292     177    1808        7384  11988   \n",
       "6   rosepe01  1566     3215    1492     405     640        7318  14053   \n",
       "7  rodrial01  1338     1840    1096      93    2784        7151  10566   \n",
       "8   cobbty01  1249     3053    1448     885     468        7103  11434   \n",
       "9  willite01  2021     1537    1050     213    2084        6905   7706   \n",
       "\n",
       "   BasesPerBat  \n",
       "0     0.866660  \n",
       "1     0.667907  \n",
       "2     0.935342  \n",
       "3     0.704794  \n",
       "4     0.692032  \n",
       "5     0.615949  \n",
       "6     0.520743  \n",
       "7     0.676793  \n",
       "8     0.621217  \n",
       "9     0.896055  "
      ]
     },
     "execution_count": 57,
     "metadata": {},
     "output_type": "execute_result"
    }
   ],
   "source": [
    "on_base_ratio= bases_vs_AB['TotalBases'].div(bases_vs_AB['AB'],axis='index')\n",
    "#calculating the ratio = TotalBases divided by At Bats\n",
    "bases_vs_AB['BasesPerBat']=on_base_ratio\n",
    "bases_vs_AB"
   ]
  },
  {
   "cell_type": "markdown",
   "metadata": {},
   "source": [
    "Even though Barry Bonds has more total bases, he was at bat more than Babe Ruth or Ted Williams, so I see a different ordering to my top ten than the Scoring data. "
   ]
  },
  {
   "cell_type": "markdown",
   "metadata": {},
   "source": [
    "3) What is the utility in being a good hitter?\n",
    "Baseball is a team game. Baseball is also a highly individual game. When at bat, a player has to depend on his skill to succeed or fail.  I want to look at what utility a power hitter may contribute to the team's objective. Some players may have a high number of hits, or bases, but what effect does that have on the team's score? To answer this question, I'm going to look at power hitting-- which is measured as the number of doubles, triples, and home runs--and its relationship to RBIs. In other words, I'm looking at the utility of being able to hit long balls and how it contributes to the team's score."
   ]
  },
  {
   "cell_type": "code",
   "execution_count": 58,
   "metadata": {
    "collapsed": false
   },
   "outputs": [
    {
     "data": {
      "text/html": [
       "<div>\n",
       "<table border=\"1\" class=\"dataframe\">\n",
       "  <thead>\n",
       "    <tr style=\"text-align: right;\">\n",
       "      <th></th>\n",
       "      <th>index</th>\n",
       "      <th>playerID</th>\n",
       "      <th>2B</th>\n",
       "      <th>3B</th>\n",
       "      <th>HR</th>\n",
       "      <th>total</th>\n",
       "    </tr>\n",
       "  </thead>\n",
       "  <tbody>\n",
       "    <tr>\n",
       "      <th>0</th>\n",
       "      <td>0</td>\n",
       "      <td>aardsda01</td>\n",
       "      <td>0</td>\n",
       "      <td>0</td>\n",
       "      <td>0</td>\n",
       "      <td>0</td>\n",
       "    </tr>\n",
       "    <tr>\n",
       "      <th>1</th>\n",
       "      <td>1</td>\n",
       "      <td>aaronha01</td>\n",
       "      <td>624</td>\n",
       "      <td>98</td>\n",
       "      <td>755</td>\n",
       "      <td>1477</td>\n",
       "    </tr>\n",
       "    <tr>\n",
       "      <th>2</th>\n",
       "      <td>2</td>\n",
       "      <td>aaronto01</td>\n",
       "      <td>42</td>\n",
       "      <td>6</td>\n",
       "      <td>13</td>\n",
       "      <td>61</td>\n",
       "    </tr>\n",
       "    <tr>\n",
       "      <th>3</th>\n",
       "      <td>3</td>\n",
       "      <td>aasedo01</td>\n",
       "      <td>0</td>\n",
       "      <td>0</td>\n",
       "      <td>0</td>\n",
       "      <td>0</td>\n",
       "    </tr>\n",
       "    <tr>\n",
       "      <th>4</th>\n",
       "      <td>4</td>\n",
       "      <td>abadan01</td>\n",
       "      <td>0</td>\n",
       "      <td>0</td>\n",
       "      <td>0</td>\n",
       "      <td>0</td>\n",
       "    </tr>\n",
       "  </tbody>\n",
       "</table>\n",
       "</div>"
      ],
      "text/plain": [
       "   index   playerID   2B  3B   HR  total\n",
       "0      0  aardsda01    0   0    0      0\n",
       "1      1  aaronha01  624  98  755   1477\n",
       "2      2  aaronto01   42   6   13     61\n",
       "3      3   aasedo01    0   0    0      0\n",
       "4      4   abadan01    0   0    0      0"
      ]
     },
     "execution_count": 58,
     "metadata": {},
     "output_type": "execute_result"
    }
   ],
   "source": [
    "'''I can use the not_singles df from the the prior analysis and attach the \n",
    "RBIs from the first analysis'''\n",
    "not_singles.reset_index().head()"
   ]
  },
  {
   "cell_type": "code",
   "execution_count": 59,
   "metadata": {
    "collapsed": false
   },
   "outputs": [],
   "source": [
    "rbi_only=batting_df.groupby('playerID')[['RBI']].sum()"
   ]
  },
  {
   "cell_type": "code",
   "execution_count": 60,
   "metadata": {
    "collapsed": false
   },
   "outputs": [
    {
     "data": {
      "text/html": [
       "<div>\n",
       "<table border=\"1\" class=\"dataframe\">\n",
       "  <thead>\n",
       "    <tr style=\"text-align: right;\">\n",
       "      <th></th>\n",
       "      <th>playerID</th>\n",
       "      <th>RBI</th>\n",
       "    </tr>\n",
       "  </thead>\n",
       "  <tbody>\n",
       "    <tr>\n",
       "      <th>0</th>\n",
       "      <td>aardsda01</td>\n",
       "      <td>0.0</td>\n",
       "    </tr>\n",
       "    <tr>\n",
       "      <th>1</th>\n",
       "      <td>aaronha01</td>\n",
       "      <td>2297.0</td>\n",
       "    </tr>\n",
       "    <tr>\n",
       "      <th>2</th>\n",
       "      <td>aaronto01</td>\n",
       "      <td>94.0</td>\n",
       "    </tr>\n",
       "    <tr>\n",
       "      <th>3</th>\n",
       "      <td>aasedo01</td>\n",
       "      <td>0.0</td>\n",
       "    </tr>\n",
       "    <tr>\n",
       "      <th>4</th>\n",
       "      <td>abadan01</td>\n",
       "      <td>0.0</td>\n",
       "    </tr>\n",
       "  </tbody>\n",
       "</table>\n",
       "</div>"
      ],
      "text/plain": [
       "    playerID     RBI\n",
       "0  aardsda01     0.0\n",
       "1  aaronha01  2297.0\n",
       "2  aaronto01    94.0\n",
       "3   aasedo01     0.0\n",
       "4   abadan01     0.0"
      ]
     },
     "execution_count": 60,
     "metadata": {},
     "output_type": "execute_result"
    }
   ],
   "source": [
    "rbi_only.reset_index().head()"
   ]
  },
  {
   "cell_type": "code",
   "execution_count": 63,
   "metadata": {
    "collapsed": false
   },
   "outputs": [],
   "source": [
    "not_singles['RBI']=rbi_only"
   ]
  },
  {
   "cell_type": "code",
   "execution_count": 64,
   "metadata": {
    "collapsed": false
   },
   "outputs": [
    {
     "data": {
      "text/html": [
       "<div>\n",
       "<table border=\"1\" class=\"dataframe\">\n",
       "  <thead>\n",
       "    <tr style=\"text-align: right;\">\n",
       "      <th></th>\n",
       "      <th>index</th>\n",
       "      <th>playerID</th>\n",
       "      <th>2B</th>\n",
       "      <th>3B</th>\n",
       "      <th>HR</th>\n",
       "      <th>total</th>\n",
       "      <th>RBI</th>\n",
       "    </tr>\n",
       "  </thead>\n",
       "  <tbody>\n",
       "    <tr>\n",
       "      <th>0</th>\n",
       "      <td>1</td>\n",
       "      <td>aaronha01</td>\n",
       "      <td>624</td>\n",
       "      <td>98</td>\n",
       "      <td>755</td>\n",
       "      <td>1477</td>\n",
       "      <td>NaN</td>\n",
       "    </tr>\n",
       "    <tr>\n",
       "      <th>1</th>\n",
       "      <td>2</td>\n",
       "      <td>aaronto01</td>\n",
       "      <td>42</td>\n",
       "      <td>6</td>\n",
       "      <td>13</td>\n",
       "      <td>61</td>\n",
       "      <td>NaN</td>\n",
       "    </tr>\n",
       "    <tr>\n",
       "      <th>2</th>\n",
       "      <td>7</td>\n",
       "      <td>abbated01</td>\n",
       "      <td>99</td>\n",
       "      <td>43</td>\n",
       "      <td>11</td>\n",
       "      <td>153</td>\n",
       "      <td>NaN</td>\n",
       "    </tr>\n",
       "    <tr>\n",
       "      <th>3</th>\n",
       "      <td>8</td>\n",
       "      <td>abbeybe01</td>\n",
       "      <td>3</td>\n",
       "      <td>3</td>\n",
       "      <td>0</td>\n",
       "      <td>6</td>\n",
       "      <td>NaN</td>\n",
       "    </tr>\n",
       "    <tr>\n",
       "      <th>4</th>\n",
       "      <td>9</td>\n",
       "      <td>abbeych01</td>\n",
       "      <td>67</td>\n",
       "      <td>46</td>\n",
       "      <td>19</td>\n",
       "      <td>132</td>\n",
       "      <td>NaN</td>\n",
       "    </tr>\n",
       "  </tbody>\n",
       "</table>\n",
       "</div>"
      ],
      "text/plain": [
       "   index   playerID   2B  3B   HR  total  RBI\n",
       "0      1  aaronha01  624  98  755   1477  NaN\n",
       "1      2  aaronto01   42   6   13     61  NaN\n",
       "2      7  abbated01   99  43   11    153  NaN\n",
       "3      8  abbeybe01    3   3    0      6  NaN\n",
       "4      9  abbeych01   67  46   19    132  NaN"
      ]
     },
     "execution_count": 64,
     "metadata": {},
     "output_type": "execute_result"
    }
   ],
   "source": [
    "power_utility=not_singles[not_singles.total !=0]\n",
    "power_utility.reset_index().head()"
   ]
  },
  {
   "cell_type": "code",
   "execution_count": 206,
   "metadata": {
    "collapsed": false
   },
   "outputs": [
    {
     "name": "stdout",
     "output_type": "stream",
     "text": [
      "Populating the interactive namespace from numpy and matplotlib\n"
     ]
    },
    {
     "data": {
      "text/plain": [
       "<seaborn.axisgrid.FacetGrid at 0x13044d68>"
      ]
     },
     "execution_count": 206,
     "metadata": {},
     "output_type": "execute_result"
    },
    {
     "data": {
      "image/png": "[encoded data removed]",
      "text/plain": [
       "<matplotlib.figure.Figure at 0x158e1ac8>"
      ]
     },
     "metadata": {},
     "output_type": "display_data"
    }
   ],
   "source": [
    "%pylab inline\n",
    "sns.lmplot('total','RBI', data = power_utility, fit_reg = True).set_axis_labels(\"Total Power Hits(2B,3B,HR)\",\"RBIs\")"
   ]
  },
  {
   "cell_type": "code",
   "execution_count": 248,
   "metadata": {
    "collapsed": false
   },
   "outputs": [
    {
     "data": {
      "text/html": [
       "<div>\n",
       "<table border=\"1\" class=\"dataframe\">\n",
       "  <thead>\n",
       "    <tr style=\"text-align: right;\">\n",
       "      <th></th>\n",
       "      <th>playerID</th>\n",
       "      <th>total</th>\n",
       "      <th>RBI</th>\n",
       "    </tr>\n",
       "  </thead>\n",
       "  <tbody>\n",
       "    <tr>\n",
       "      <th>0</th>\n",
       "      <td>aaronha01</td>\n",
       "      <td>1477</td>\n",
       "      <td>2297.0</td>\n",
       "    </tr>\n",
       "    <tr>\n",
       "      <th>1</th>\n",
       "      <td>aaronto01</td>\n",
       "      <td>61</td>\n",
       "      <td>94.0</td>\n",
       "    </tr>\n",
       "    <tr>\n",
       "      <th>2</th>\n",
       "      <td>abbated01</td>\n",
       "      <td>153</td>\n",
       "      <td>324.0</td>\n",
       "    </tr>\n",
       "    <tr>\n",
       "      <th>3</th>\n",
       "      <td>abbeybe01</td>\n",
       "      <td>6</td>\n",
       "      <td>17.0</td>\n",
       "    </tr>\n",
       "    <tr>\n",
       "      <th>4</th>\n",
       "      <td>abbeych01</td>\n",
       "      <td>132</td>\n",
       "      <td>280.0</td>\n",
       "    </tr>\n",
       "  </tbody>\n",
       "</table>\n",
       "</div>"
      ],
      "text/plain": [
       "    playerID  total     RBI\n",
       "0  aaronha01   1477  2297.0\n",
       "1  aaronto01     61    94.0\n",
       "2  abbated01    153   324.0\n",
       "3  abbeybe01      6    17.0\n",
       "4  abbeych01    132   280.0"
      ]
     },
     "execution_count": 248,
     "metadata": {},
     "output_type": "execute_result"
    }
   ],
   "source": [
    "#del power_utility['2B']\n",
    "#del power_utility['3B']\n",
    "#del power_utility['HR']\n",
    "'''I will calculate the correlation'''\n",
    "power_utility.head().reset_index()"
   ]
  },
  {
   "cell_type": "code",
   "execution_count": 256,
   "metadata": {
    "collapsed": false
   },
   "outputs": [
    {
     "data": {
      "text/html": [
       "<div>\n",
       "<table border=\"1\" class=\"dataframe\">\n",
       "  <thead>\n",
       "    <tr style=\"text-align: right;\">\n",
       "      <th></th>\n",
       "      <th>total</th>\n",
       "      <th>RBI</th>\n",
       "    </tr>\n",
       "  </thead>\n",
       "  <tbody>\n",
       "    <tr>\n",
       "      <th>total</th>\n",
       "      <td>1.00000</td>\n",
       "      <td>0.98692</td>\n",
       "    </tr>\n",
       "    <tr>\n",
       "      <th>RBI</th>\n",
       "      <td>0.98692</td>\n",
       "      <td>1.00000</td>\n",
       "    </tr>\n",
       "  </tbody>\n",
       "</table>\n",
       "</div>"
      ],
      "text/plain": [
       "         total      RBI\n",
       "total  1.00000  0.98692\n",
       "RBI    0.98692  1.00000"
      ]
     },
     "execution_count": 256,
     "metadata": {},
     "output_type": "execute_result"
    }
   ],
   "source": [
    "power_utility.corr(method='pearson',min_periods = 1)#find pearson's r"
   ]
  },
  {
   "cell_type": "markdown",
   "metadata": {
    "collapsed": true
   },
   "source": [
    "There is a strong correlation (r = .98692) between total power hits made by the batter and number of RBIs.  The results imply that being able to take a larger number of bases by hitting doubles, triples, and home runs is strongly correlated with batting other players in."
   ]
  },
  {
   "cell_type": "markdown",
   "metadata": {},
   "source": [
    "Now, I want to find a meaningful way to represent the top ten players, but how could that be accomplished? If I find the ratio of the total power hits to RBI's, I will in some cases get \"undefined\" for those players who had a certain number of power hits, and zero RBI's. I also do not want to rank by ratio, because there are possibly some players who might have a 1 grand slam home run, and therefore have a ratio of 3. So I want to rank the top hitters to see who of those hitters had the highest ratio."
   ]
  },
  {
   "cell_type": "code",
   "execution_count": 304,
   "metadata": {
    "collapsed": false
   },
   "outputs": [],
   "source": [
    "top_ten_utility= column_sort(power_utility['total'])\n",
    "\n",
    "top_ten_utility = pd.DataFrame(top_ten_utility)#make into a df so it can be merged\n",
    "top_ten_utility=top_ten_utility.reset_index()\n"
   ]
  },
  {
   "cell_type": "code",
   "execution_count": 305,
   "metadata": {
    "collapsed": false
   },
   "outputs": [],
   "source": [
    "rbis_only=batting_df.groupby('playerID')[['RBI']].sum()#make a df with only rbis\n",
    "rbis_only=rbis_only.reset_index()"
   ]
  },
  {
   "cell_type": "code",
   "execution_count": 306,
   "metadata": {
    "collapsed": false
   },
   "outputs": [
    {
     "data": {
      "text/html": [
       "<div>\n",
       "<table border=\"1\" class=\"dataframe\">\n",
       "  <thead>\n",
       "    <tr style=\"text-align: right;\">\n",
       "      <th></th>\n",
       "      <th>playerID</th>\n",
       "      <th>total</th>\n",
       "      <th>RBI</th>\n",
       "    </tr>\n",
       "  </thead>\n",
       "  <tbody>\n",
       "    <tr>\n",
       "      <th>0</th>\n",
       "      <td>aaronha01</td>\n",
       "      <td>1477</td>\n",
       "      <td>2297.0</td>\n",
       "    </tr>\n",
       "    <tr>\n",
       "      <th>1</th>\n",
       "      <td>bondsba01</td>\n",
       "      <td>1440</td>\n",
       "      <td>1996.0</td>\n",
       "    </tr>\n",
       "    <tr>\n",
       "      <th>2</th>\n",
       "      <td>musiast01</td>\n",
       "      <td>1377</td>\n",
       "      <td>1951.0</td>\n",
       "    </tr>\n",
       "    <tr>\n",
       "      <th>3</th>\n",
       "      <td>ruthba01</td>\n",
       "      <td>1356</td>\n",
       "      <td>2217.0</td>\n",
       "    </tr>\n",
       "    <tr>\n",
       "      <th>4</th>\n",
       "      <td>mayswi01</td>\n",
       "      <td>1323</td>\n",
       "      <td>1903.0</td>\n",
       "    </tr>\n",
       "    <tr>\n",
       "      <th>5</th>\n",
       "      <td>rodrial01</td>\n",
       "      <td>1275</td>\n",
       "      <td>2086.0</td>\n",
       "    </tr>\n",
       "    <tr>\n",
       "      <th>6</th>\n",
       "      <td>pujolal01</td>\n",
       "      <td>1209</td>\n",
       "      <td>1817.0</td>\n",
       "    </tr>\n",
       "    <tr>\n",
       "      <th>7</th>\n",
       "      <td>ortizda01</td>\n",
       "      <td>1192</td>\n",
       "      <td>1768.0</td>\n",
       "    </tr>\n",
       "    <tr>\n",
       "      <th>8</th>\n",
       "      <td>griffke02</td>\n",
       "      <td>1192</td>\n",
       "      <td>1836.0</td>\n",
       "    </tr>\n",
       "    <tr>\n",
       "      <th>9</th>\n",
       "      <td>palmera01</td>\n",
       "      <td>1192</td>\n",
       "      <td>1835.0</td>\n",
       "    </tr>\n",
       "  </tbody>\n",
       "</table>\n",
       "</div>"
      ],
      "text/plain": [
       "    playerID  total     RBI\n",
       "0  aaronha01   1477  2297.0\n",
       "1  bondsba01   1440  1996.0\n",
       "2  musiast01   1377  1951.0\n",
       "3   ruthba01   1356  2217.0\n",
       "4   mayswi01   1323  1903.0\n",
       "5  rodrial01   1275  2086.0\n",
       "6  pujolal01   1209  1817.0\n",
       "7  ortizda01   1192  1768.0\n",
       "8  griffke02   1192  1836.0\n",
       "9  palmera01   1192  1835.0"
      ]
     },
     "execution_count": 306,
     "metadata": {},
     "output_type": "execute_result"
    }
   ],
   "source": [
    "top_ten_utility=top_ten_utility.merge(rbis_only, on = 'playerID', how = 'inner')\n",
    "#merge the two tables\n",
    "top_ten_utility"
   ]
  },
  {
   "cell_type": "code",
   "execution_count": 314,
   "metadata": {
    "collapsed": true
   },
   "outputs": [],
   "source": [
    "rbis_to_total = top_ten_utility['RBI'].div(top_ten_utility['total'])#finding the ratio"
   ]
  },
  {
   "cell_type": "code",
   "execution_count": 315,
   "metadata": {
    "collapsed": true
   },
   "outputs": [],
   "source": [
    "top_ten_utility['P:RBI']=rbis_to_total#adding the column"
   ]
  },
  {
   "cell_type": "code",
   "execution_count": 316,
   "metadata": {
    "collapsed": false
   },
   "outputs": [
    {
     "data": {
      "text/html": [
       "<div>\n",
       "<table border=\"1\" class=\"dataframe\">\n",
       "  <thead>\n",
       "    <tr style=\"text-align: right;\">\n",
       "      <th></th>\n",
       "      <th>playerID</th>\n",
       "      <th>total</th>\n",
       "      <th>RBI</th>\n",
       "      <th>P:RBI</th>\n",
       "    </tr>\n",
       "  </thead>\n",
       "  <tbody>\n",
       "    <tr>\n",
       "      <th>0</th>\n",
       "      <td>aaronha01</td>\n",
       "      <td>1477</td>\n",
       "      <td>2297.0</td>\n",
       "      <td>1.555179</td>\n",
       "    </tr>\n",
       "    <tr>\n",
       "      <th>1</th>\n",
       "      <td>bondsba01</td>\n",
       "      <td>1440</td>\n",
       "      <td>1996.0</td>\n",
       "      <td>1.386111</td>\n",
       "    </tr>\n",
       "    <tr>\n",
       "      <th>2</th>\n",
       "      <td>musiast01</td>\n",
       "      <td>1377</td>\n",
       "      <td>1951.0</td>\n",
       "      <td>1.416848</td>\n",
       "    </tr>\n",
       "    <tr>\n",
       "      <th>3</th>\n",
       "      <td>ruthba01</td>\n",
       "      <td>1356</td>\n",
       "      <td>2217.0</td>\n",
       "      <td>1.634956</td>\n",
       "    </tr>\n",
       "    <tr>\n",
       "      <th>4</th>\n",
       "      <td>mayswi01</td>\n",
       "      <td>1323</td>\n",
       "      <td>1903.0</td>\n",
       "      <td>1.438398</td>\n",
       "    </tr>\n",
       "    <tr>\n",
       "      <th>5</th>\n",
       "      <td>rodrial01</td>\n",
       "      <td>1275</td>\n",
       "      <td>2086.0</td>\n",
       "      <td>1.636078</td>\n",
       "    </tr>\n",
       "    <tr>\n",
       "      <th>6</th>\n",
       "      <td>pujolal01</td>\n",
       "      <td>1209</td>\n",
       "      <td>1817.0</td>\n",
       "      <td>1.502895</td>\n",
       "    </tr>\n",
       "    <tr>\n",
       "      <th>7</th>\n",
       "      <td>ortizda01</td>\n",
       "      <td>1192</td>\n",
       "      <td>1768.0</td>\n",
       "      <td>1.483221</td>\n",
       "    </tr>\n",
       "    <tr>\n",
       "      <th>8</th>\n",
       "      <td>griffke02</td>\n",
       "      <td>1192</td>\n",
       "      <td>1836.0</td>\n",
       "      <td>1.540268</td>\n",
       "    </tr>\n",
       "    <tr>\n",
       "      <th>9</th>\n",
       "      <td>palmera01</td>\n",
       "      <td>1192</td>\n",
       "      <td>1835.0</td>\n",
       "      <td>1.539430</td>\n",
       "    </tr>\n",
       "  </tbody>\n",
       "</table>\n",
       "</div>"
      ],
      "text/plain": [
       "    playerID  total     RBI     P:RBI\n",
       "0  aaronha01   1477  2297.0  1.555179\n",
       "1  bondsba01   1440  1996.0  1.386111\n",
       "2  musiast01   1377  1951.0  1.416848\n",
       "3   ruthba01   1356  2217.0  1.634956\n",
       "4   mayswi01   1323  1903.0  1.438398\n",
       "5  rodrial01   1275  2086.0  1.636078\n",
       "6  pujolal01   1209  1817.0  1.502895\n",
       "7  ortizda01   1192  1768.0  1.483221\n",
       "8  griffke02   1192  1836.0  1.540268\n",
       "9  palmera01   1192  1835.0  1.539430"
      ]
     },
     "execution_count": 316,
     "metadata": {},
     "output_type": "execute_result"
    }
   ],
   "source": [
    "top_ten_utility"
   ]
  },
  {
   "cell_type": "markdown",
   "metadata": {},
   "source": [
    "The utility rank of the player is now more visible, with Alex Rodriguez coming in first, followed by Babe Ruth and so on."
   ]
  },
  {
   "cell_type": "markdown",
   "metadata": {},
   "source": [
    "Summary:\n",
    "In this analysis, I looked at three measures of player ability:\n",
    "    1)Scoring- Runs plus RBIs\n",
    "    2)Bases Taken- singles and BBs count as 1, doubles as 2, triples as 3 and home runs as 4\n",
    "    3)Utility of Power- using power hits (doubles, triples and home runs) \n",
    "Scoring is correlated with At Bats, as is Bases Taken. Utility is correlated with RBIs. Each measure is simplified to a ratio (or percent) for ease of viewing. The players were then sorted for each measure and I looked at the top ten to see how well my analysis of players matches up with ESPN's Hall of 100's top ten.  In all, I see some consistency in my measure in that 5 players in ESPN's Hall of 100 (top ten) appear in my analyses always in differing order. I can't make any conclusions as to how experts consider some players better than others, but at least I have seen some methods in this report that contribute to the overall ranking of players."
   ]
  },
  {
   "cell_type": "code",
   "execution_count": null,
   "metadata": {
    "collapsed": true
   },
   "outputs": [],
   "source": [
    "'''Special note of thanks to my Dad, Larry Andrzejewski for helping me understand the baseball\n",
    "statistics and what could be possible to measure in my analysis.'''"
   ]
  },
  {
   "cell_type": "markdown",
   "metadata": {},
   "source": [
    "Sources:\n",
    "Stack Overflow (stackoverflow.com) for pandas and numpy help and syntax\n",
    "ESPN Hall of 100: link embedded in ipynb\n",
    "matplotlib.org-- help with visualizations\n",
    "Udacity-Forums: Help from Myles https://discussions.udacity.com/t/how-to-label-the-colorbar-in-pyplot/236234"
   ]
  },
  {
   "cell_type": "code",
   "execution_count": null,
   "metadata": {
    "collapsed": true
   },
   "outputs": [],
   "source": []
  }
 ],
 "metadata": {
  "anaconda-cloud": {},
  "kernelspec": {
   "display_name": "Python [conda env:py_2_env]",
   "language": "python",
   "name": "conda-env-py_2_env-py"
  },
  "language_info": {
   "codemirror_mode": {
    "name": "ipython",
    "version": 2
   },
   "file_extension": ".py",
   "mimetype": "text/x-python",
   "name": "python",
   "nbconvert_exporter": "python",
   "pygments_lexer": "ipython2",
   "version": "2.7.13"
  }
 },
 "nbformat": 4,
 "nbformat_minor": 1
}
